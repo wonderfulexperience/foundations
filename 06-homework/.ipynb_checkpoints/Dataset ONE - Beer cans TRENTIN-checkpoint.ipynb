{
 "cells": [
  {
   "cell_type": "markdown",
   "metadata": {
    "collapsed": true
   },
   "source": [
    "# A dataset about cans of beer.\n",
    "\n",
    "Data from http://craftcans.com/"
   ]
  },
  {
   "cell_type": "markdown",
   "metadata": {},
   "source": [
    "## Do your importing and your setup"
   ]
  },
  {
   "cell_type": "code",
   "execution_count": 1,
   "metadata": {
    "collapsed": true
   },
   "outputs": [],
   "source": [
    "import pandas as pd\n",
    "%matplotlib inline"
   ]
  },
  {
   "cell_type": "markdown",
   "metadata": {},
   "source": [
    "## Read in the file `craftcans.csv`, and look at the first first rows"
   ]
  },
  {
   "cell_type": "code",
   "execution_count": 2,
   "metadata": {
    "collapsed": true
   },
   "outputs": [],
   "source": [
    "df = pd.read_csv(\"/Users/alex/Desktop/Columbia/Foundations/class-06/06-classwork/beer/craftcans.csv\", na_values=\"???\")"
   ]
  },
  {
   "cell_type": "markdown",
   "metadata": {},
   "source": [
    "## How many rows do you have in the data? What are the column types?"
   ]
  },
  {
   "cell_type": "code",
   "execution_count": 3,
   "metadata": {},
   "outputs": [
    {
     "data": {
      "text/plain": [
       "2416"
      ]
     },
     "execution_count": 3,
     "metadata": {},
     "output_type": "execute_result"
    }
   ],
   "source": [
    "len(df)"
   ]
  },
  {
   "cell_type": "code",
   "execution_count": 4,
   "metadata": {},
   "outputs": [
    {
     "data": {
      "text/plain": [
       "Beer         object\n",
       "Brewery      object\n",
       "Location     object\n",
       "Style        object\n",
       "Size         object\n",
       "ABV          object\n",
       "IBUs        float64\n",
       "dtype: object"
      ]
     },
     "execution_count": 4,
     "metadata": {},
     "output_type": "execute_result"
    }
   ],
   "source": [
    "df.dtypes"
   ]
  },
  {
   "cell_type": "markdown",
   "metadata": {},
   "source": [
    "# Checking out breweries\n",
    "\n",
    "Where does beer come from????"
   ]
  },
  {
   "cell_type": "markdown",
   "metadata": {},
   "source": [
    "## What are the top 10 producers of cans of beer?"
   ]
  },
  {
   "cell_type": "code",
   "execution_count": 5,
   "metadata": {},
   "outputs": [
    {
     "data": {
      "text/plain": [
       "Brewery Vivant                62\n",
       "Oskar Blues Brewery           46\n",
       "Sun King Brewing Company      38\n",
       "Cigar City Brewing Company    25\n",
       "Sixpoint Craft Ales           24\n",
       "Hopworks Urban Brewery        23\n",
       "Stevens Point Brewery         22\n",
       "21st Amendment Brewery        20\n",
       "Great Crescent Brewery        20\n",
       "Bonfire Brewing Company       19\n",
       "Name: Brewery, dtype: int64"
      ]
     },
     "execution_count": 5,
     "metadata": {},
     "output_type": "execute_result"
    }
   ],
   "source": [
    "df[\"Brewery\"].value_counts().head(10)"
   ]
  },
  {
   "cell_type": "markdown",
   "metadata": {},
   "source": [
    "## What is the most common size of beer?\n",
    "\n",
    "The answer won't be pretty - we'll learn to clean it up in a week or two."
   ]
  },
  {
   "cell_type": "code",
   "execution_count": 6,
   "metadata": {},
   "outputs": [
    {
     "data": {
      "text/plain": [
       "12 oz.    1507\n",
       "Name: Size, dtype: int64"
      ]
     },
     "execution_count": 6,
     "metadata": {},
     "output_type": "execute_result"
    }
   ],
   "source": [
    "df[\"Size\"].value_counts().head(1)"
   ]
  },
  {
   "cell_type": "markdown",
   "metadata": {},
   "source": [
    "## What is the most common ABV? (alcohol by volume)"
   ]
  },
  {
   "cell_type": "code",
   "execution_count": 7,
   "metadata": {},
   "outputs": [
    {
     "data": {
      "text/plain": [
       "5.00%    215\n",
       "Name: ABV, dtype: int64"
      ]
     },
     "execution_count": 7,
     "metadata": {},
     "output_type": "execute_result"
    }
   ],
   "source": [
    "df[\"ABV\"].value_counts().head(1)"
   ]
  },
  {
   "cell_type": "markdown",
   "metadata": {},
   "source": [
    "## Oh, weird, ABV isn't a number. Convert it to a number for me, please.\n",
    "\n",
    "It's going to take three steps:\n",
    "\n",
    "1. List just the ABV of every row\n",
    "2. Remove the % symbol\n",
    "3. Convert it to a `float`\n",
    "4. Save it into a new column. Or the same column, if you're feeling wild.\n",
    "\n",
    "Although it *also* turns out that there's some bad data in there. We'll need to clean that up, too."
   ]
  },
  {
   "cell_type": "code",
   "execution_count": 8,
   "metadata": {},
   "outputs": [
    {
     "data": {
      "text/plain": [
       "0    4.5\n",
       "1    4.9\n",
       "2    4.8\n",
       "3    6.0\n",
       "4    6.0\n",
       "Name: ABV cleaned, dtype: float64"
      ]
     },
     "execution_count": 8,
     "metadata": {},
     "output_type": "execute_result"
    }
   ],
   "source": [
    "df[\"ABV cleaned\"] = df[\"ABV\"].str.rstrip('%').astype(float)\n",
    "df[\"ABV cleaned\"].head(5)"
   ]
  },
  {
   "cell_type": "markdown",
   "metadata": {},
   "source": [
    "# Looking at location\n",
    "\n",
    "Brooklyn used to produce 80% of the country's beer! Let's see if it's still true."
   ]
  },
  {
   "cell_type": "markdown",
   "metadata": {},
   "source": [
    "## What are the top 10 cities in the US for canned craft beer?"
   ]
  },
  {
   "cell_type": "code",
   "execution_count": 9,
   "metadata": {},
   "outputs": [
    {
     "data": {
      "text/plain": [
       "Grand Rapids, MI    66\n",
       "Chicago, IL         55\n",
       "Portland, OR        52\n",
       "Indianapolis, IN    43\n",
       "San Diego, CA       42\n",
       "Boulder, CO         41\n",
       "Denver, CO          40\n",
       "Brooklyn, NY        38\n",
       "Seattle, WA         35\n",
       "Longmont, CO        33\n",
       "Name: Location, dtype: int64"
      ]
     },
     "execution_count": 9,
     "metadata": {},
     "output_type": "execute_result"
    }
   ],
   "source": [
    "df[\"Location\"].value_counts().head(10)"
   ]
  },
  {
   "cell_type": "markdown",
   "metadata": {},
   "source": [
    "## List all of the beer from Brooklyn, NY"
   ]
  },
  {
   "cell_type": "code",
   "execution_count": 10,
   "metadata": {},
   "outputs": [
    {
     "data": {
      "text/plain": [
       "115                              4Beans\n",
       "146                    Todd the Axe Man\n",
       "210                              Jammer\n",
       "246                             Abigale\n",
       "280                            Doomtree\n",
       "404                       Nomader Weiss\n",
       "421                                 Rad\n",
       "439                        Molotov Lite\n",
       "588                             Bengali\n",
       "713                       Sensi Harvest\n",
       "927                              BLAKKR\n",
       "969                              Hi-Res\n",
       "987               KelSo Nut Brown Lager\n",
       "1057                      Global Warmer\n",
       "1074                 Autumnation (2013)\n",
       "1093               KelSo India Pale Ale\n",
       "1267                          The Crisp\n",
       "1268                       Sweet Action\n",
       "1269                      Righteous Ale\n",
       "1270                      Bengali Tiger\n",
       "1305                      KelSo Pilsner\n",
       "1365    Hipster Ale (Two Roads Brewing)\n",
       "1366                        Bikini Beer\n",
       "1373                East India Pale Ale\n",
       "1536    Overrated! West Coast Style IPA\n",
       "1624                             3Beans\n",
       "1836                         Brownstone\n",
       "1857                Brooklyn Summer Ale\n",
       "1962    Hipster Ale (Westbrook Brewing)\n",
       "1970                             Apollo\n",
       "1971                          Harbinger\n",
       "1972                              Resin\n",
       "2027                East India Pale Ale\n",
       "2062                             Diesel\n",
       "2074       Autumnation (2011-12) (2011)\n",
       "2140                   The Crisp (2011)\n",
       "2141                Sweet Action (2011)\n",
       "2142               Righteous Ale (2011)\n",
       "2143               Bengali Tiger (2011)\n",
       "2218                                WET\n",
       "2219         Brooklyn Summer Ale (2011)\n",
       "2350            Brooklyn Lager (16 oz.)\n",
       "2351            Brooklyn Lager (12 oz.)\n",
       "2399                      Bitter Brewer\n",
       "2400                          SurlyFest\n",
       "2401                      Coffee Bender\n",
       "2402                             Bender\n",
       "2403                       Abrasive Ale\n",
       "2404                               Hell\n",
       "2405                           CynicAle\n",
       "2406                            Furious\n",
       "Name: Beer, dtype: object"
      ]
     },
     "execution_count": 10,
     "metadata": {},
     "output_type": "execute_result"
    }
   ],
   "source": [
    "df[df[\"Location\"].str.contains(\"Brooklyn\",na=False)][\"Beer\"]"
   ]
  },
  {
   "cell_type": "markdown",
   "metadata": {},
   "source": [
    "## What brewery in Brooklyn puts out the most cans of beer?"
   ]
  },
  {
   "cell_type": "code",
   "execution_count": 11,
   "metadata": {},
   "outputs": [
    {
     "data": {
      "text/plain": [
       "Sixpoint Craft Ales    24\n",
       "Name: Brewery, dtype: int64"
      ]
     },
     "execution_count": 11,
     "metadata": {},
     "output_type": "execute_result"
    }
   ],
   "source": [
    "df[df[\"Location\"].str.contains(\"Brooklyn\",na=False)][\"Brewery\"].value_counts().head(1)"
   ]
  },
  {
   "cell_type": "markdown",
   "metadata": {},
   "source": [
    "## What are the five most popular styles of beer produced by Sixpoint?"
   ]
  },
  {
   "cell_type": "code",
   "execution_count": 12,
   "metadata": {},
   "outputs": [
    {
     "data": {
      "text/plain": [
       "American IPA                      4\n",
       "American Double / Imperial IPA    2\n",
       "Rye Beer                          2\n",
       "Cream Ale                         2\n",
       "Baltic Porter                     2\n",
       "Name: Style, dtype: int64"
      ]
     },
     "execution_count": 12,
     "metadata": {},
     "output_type": "execute_result"
    }
   ],
   "source": [
    "df[df[\"Brewery\"].str.contains(\"Sixpoint\",na=False)][\"Style\"].value_counts().head(5)"
   ]
  },
  {
   "cell_type": "markdown",
   "metadata": {},
   "source": [
    "## List all of the breweries in New York state. Then count them."
   ]
  },
  {
   "cell_type": "code",
   "execution_count": 13,
   "metadata": {},
   "outputs": [
    {
     "data": {
      "text/plain": [
       "Brewery\n",
       "Blue Point Brewing Company       1\n",
       "Bomb Beer Company                1\n",
       "Brooklyn Brewery                 1\n",
       "Butternuts Beer and Ale          1\n",
       "Chatham Brewing                  1\n",
       "Dundee Brewing Company           1\n",
       "Evil Twin Brewing                1\n",
       "KelSo Beer Company               1\n",
       "Matt Brewing Company             1\n",
       "Montauk Brewing Company          1\n",
       "Newburgh Brewing Company         1\n",
       "Sixpoint Craft Ales              1\n",
       "Southampton Publick House        1\n",
       "The Bronx Brewery                1\n",
       "The Manhattan Brewing Company    1\n",
       "Upstate Brewing Company          1\n",
       "Name: Location, dtype: int64"
      ]
     },
     "execution_count": 13,
     "metadata": {},
     "output_type": "execute_result"
    }
   ],
   "source": [
    "df[df[\"Location\"].str.contains(\", NY\",na=False)].groupby(\"Brewery\")[\"Location\"].count().groupby(level=0).count()"
   ]
  },
  {
   "cell_type": "code",
   "execution_count": 14,
   "metadata": {},
   "outputs": [
    {
     "data": {
      "text/plain": [
       "16"
      ]
     },
     "execution_count": 14,
     "metadata": {},
     "output_type": "execute_result"
    }
   ],
   "source": [
    "len(df[df[\"Location\"].str.contains(\", NY\",na=False)].groupby(\"Brewery\")[\"Location\"])"
   ]
  },
  {
   "cell_type": "markdown",
   "metadata": {},
   "source": [
    "# Measuring International Bitterness Units\n",
    "\n",
    "IBU stands for [International Bitterness Unit](http://www.thebrewenthusiast.com/ibus/), and while a lot of places like to brag about having the most bitter beer (it's an American thing!), IBUs don't necessary *mean anything*.\n",
    "\n",
    "Let's look at how different beers have different IBU measurements."
   ]
  },
  {
   "cell_type": "markdown",
   "metadata": {},
   "source": [
    "## What is the average IBU measurement across all beers?"
   ]
  },
  {
   "cell_type": "code",
   "execution_count": 15,
   "metadata": {},
   "outputs": [
    {
     "data": {
      "text/plain": [
       "42.713167259786474"
      ]
     },
     "execution_count": 15,
     "metadata": {},
     "output_type": "execute_result"
    }
   ],
   "source": [
    "df[\"IBUs\"].mean()"
   ]
  },
  {
   "cell_type": "markdown",
   "metadata": {},
   "source": [
    "## Draw the distribution of IBU measurements, but with *thirty* bins instead of the default of 10"
   ]
  },
  {
   "cell_type": "code",
   "execution_count": 16,
   "metadata": {},
   "outputs": [
    {
     "data": {
      "text/plain": [
       "<matplotlib.axes._subplots.AxesSubplot at 0x101eae710>"
      ]
     },
     "execution_count": 16,
     "metadata": {},
     "output_type": "execute_result"
    },
    {
     "data": {
      "image/png": "[encoded data removed]",
      "text/plain": [
       "<matplotlib.figure.Figure at 0x106012320>"
      ]
     },
     "metadata": {},
     "output_type": "display_data"
    }
   ],
   "source": [
    "df[\"IBUs\"].hist(bins=30)"
   ]
  },
  {
   "cell_type": "markdown",
   "metadata": {},
   "source": [
    "## List all of the beers with IBUs above the 75th percentile"
   ]
  },
  {
   "cell_type": "code",
   "execution_count": 17,
   "metadata": {},
   "outputs": [
    {
     "data": {
      "text/html": [
       "<div>\n",
       "<style>\n",
       "    .dataframe thead tr:only-child th {\n",
       "        text-align: right;\n",
       "    }\n",
       "\n",
       "    .dataframe thead th {\n",
       "        text-align: left;\n",
       "    }\n",
       "\n",
       "    .dataframe tbody tr th {\n",
       "        vertical-align: top;\n",
       "    }\n",
       "</style>\n",
       "<table border=\"1\" class=\"dataframe\">\n",
       "  <thead>\n",
       "    <tr style=\"text-align: right;\">\n",
       "      <th></th>\n",
       "      <th>Beer</th>\n",
       "      <th>IBUs</th>\n",
       "    </tr>\n",
       "  </thead>\n",
       "  <tbody>\n",
       "    <tr>\n",
       "      <th>1662</th>\n",
       "      <td>Bitter Bitch Imperial IPA</td>\n",
       "      <td>138.0</td>\n",
       "    </tr>\n",
       "    <tr>\n",
       "      <th>989</th>\n",
       "      <td>Troopers Alley IPA</td>\n",
       "      <td>135.0</td>\n",
       "    </tr>\n",
       "    <tr>\n",
       "      <th>611</th>\n",
       "      <td>Dead-Eye DIPA</td>\n",
       "      <td>130.0</td>\n",
       "    </tr>\n",
       "    <tr>\n",
       "      <th>249</th>\n",
       "      <td>Bay of Bengal Double IPA (2014)</td>\n",
       "      <td>126.0</td>\n",
       "    </tr>\n",
       "    <tr>\n",
       "      <th>1537</th>\n",
       "      <td>Heady Topper</td>\n",
       "      <td>120.0</td>\n",
       "    </tr>\n",
       "    <tr>\n",
       "      <th>2403</th>\n",
       "      <td>Abrasive Ale</td>\n",
       "      <td>120.0</td>\n",
       "    </tr>\n",
       "    <tr>\n",
       "      <th>2182</th>\n",
       "      <td>Heady Topper</td>\n",
       "      <td>120.0</td>\n",
       "    </tr>\n",
       "    <tr>\n",
       "      <th>556</th>\n",
       "      <td>More Cowbell</td>\n",
       "      <td>118.0</td>\n",
       "    </tr>\n",
       "    <tr>\n",
       "      <th>1783</th>\n",
       "      <td>On the Wings of Armageddon</td>\n",
       "      <td>115.0</td>\n",
       "    </tr>\n",
       "    <tr>\n",
       "      <th>1209</th>\n",
       "      <td>Overlord Imperial IPA</td>\n",
       "      <td>115.0</td>\n",
       "    </tr>\n",
       "    <tr>\n",
       "      <th>218</th>\n",
       "      <td>Hopkick Dropkick</td>\n",
       "      <td>115.0</td>\n",
       "    </tr>\n",
       "    <tr>\n",
       "      <th>186</th>\n",
       "      <td>Hop A-Peel</td>\n",
       "      <td>115.0</td>\n",
       "    </tr>\n",
       "    <tr>\n",
       "      <th>1168</th>\n",
       "      <td>Blazing World</td>\n",
       "      <td>115.0</td>\n",
       "    </tr>\n",
       "    <tr>\n",
       "      <th>2394</th>\n",
       "      <td>113 IPA</td>\n",
       "      <td>113.0</td>\n",
       "    </tr>\n",
       "    <tr>\n",
       "      <th>969</th>\n",
       "      <td>Hi-Res</td>\n",
       "      <td>111.0</td>\n",
       "    </tr>\n",
       "    <tr>\n",
       "      <th>938</th>\n",
       "      <td>Red Cockaded Ale</td>\n",
       "      <td>110.0</td>\n",
       "    </tr>\n",
       "    <tr>\n",
       "      <th>1633</th>\n",
       "      <td>Red Cockaded Ale (2013)</td>\n",
       "      <td>110.0</td>\n",
       "    </tr>\n",
       "    <tr>\n",
       "      <th>1627</th>\n",
       "      <td>Ethos IPA</td>\n",
       "      <td>110.0</td>\n",
       "    </tr>\n",
       "    <tr>\n",
       "      <th>861</th>\n",
       "      <td>Hoptopus Double IPA</td>\n",
       "      <td>108.0</td>\n",
       "    </tr>\n",
       "    <tr>\n",
       "      <th>1724</th>\n",
       "      <td>Frankenlou's IPA</td>\n",
       "      <td>105.0</td>\n",
       "    </tr>\n",
       "    <tr>\n",
       "      <th>905</th>\n",
       "      <td>Hemlock Double IPA</td>\n",
       "      <td>104.0</td>\n",
       "    </tr>\n",
       "    <tr>\n",
       "      <th>1055</th>\n",
       "      <td>Half Cycle IPA</td>\n",
       "      <td>104.0</td>\n",
       "    </tr>\n",
       "    <tr>\n",
       "      <th>1972</th>\n",
       "      <td>Resin</td>\n",
       "      <td>103.0</td>\n",
       "    </tr>\n",
       "    <tr>\n",
       "      <th>2234</th>\n",
       "      <td>Snake Handler Double IPA</td>\n",
       "      <td>103.0</td>\n",
       "    </tr>\n",
       "    <tr>\n",
       "      <th>288</th>\n",
       "      <td>Yellow Wolf Imperial IPA</td>\n",
       "      <td>103.0</td>\n",
       "    </tr>\n",
       "    <tr>\n",
       "      <th>1104</th>\n",
       "      <td>Double Trunk</td>\n",
       "      <td>101.0</td>\n",
       "    </tr>\n",
       "    <tr>\n",
       "      <th>274</th>\n",
       "      <td>Unchained #18 Hop Silo</td>\n",
       "      <td>100.0</td>\n",
       "    </tr>\n",
       "    <tr>\n",
       "      <th>1216</th>\n",
       "      <td>F5 IPA</td>\n",
       "      <td>100.0</td>\n",
       "    </tr>\n",
       "    <tr>\n",
       "      <th>584</th>\n",
       "      <td>Epitome</td>\n",
       "      <td>100.0</td>\n",
       "    </tr>\n",
       "    <tr>\n",
       "      <th>1473</th>\n",
       "      <td>Redacted Rye IPA</td>\n",
       "      <td>100.0</td>\n",
       "    </tr>\n",
       "    <tr>\n",
       "      <th>...</th>\n",
       "      <td>...</td>\n",
       "      <td>...</td>\n",
       "    </tr>\n",
       "    <tr>\n",
       "      <th>1687</th>\n",
       "      <td>Dale's Pale Ale</td>\n",
       "      <td>65.0</td>\n",
       "    </tr>\n",
       "    <tr>\n",
       "      <th>1870</th>\n",
       "      <td>Dale's Pale Ale (2003)</td>\n",
       "      <td>65.0</td>\n",
       "    </tr>\n",
       "    <tr>\n",
       "      <th>1869</th>\n",
       "      <td>Dale's Pale Ale (2004)</td>\n",
       "      <td>65.0</td>\n",
       "    </tr>\n",
       "    <tr>\n",
       "      <th>1868</th>\n",
       "      <td>Dale's Pale Ale (2006)</td>\n",
       "      <td>65.0</td>\n",
       "    </tr>\n",
       "    <tr>\n",
       "      <th>1961</th>\n",
       "      <td>Hoppy Boy</td>\n",
       "      <td>65.0</td>\n",
       "    </tr>\n",
       "    <tr>\n",
       "      <th>1867</th>\n",
       "      <td>Dale's Pale Ale (2008)</td>\n",
       "      <td>65.0</td>\n",
       "    </tr>\n",
       "    <tr>\n",
       "      <th>1859</th>\n",
       "      <td>Dale's Pale Ale (2010)</td>\n",
       "      <td>65.0</td>\n",
       "    </tr>\n",
       "    <tr>\n",
       "      <th>1858</th>\n",
       "      <td>Dale's Pale Ale (2011)</td>\n",
       "      <td>65.0</td>\n",
       "    </tr>\n",
       "    <tr>\n",
       "      <th>1855</th>\n",
       "      <td>Double Haul IPA (2006)</td>\n",
       "      <td>65.0</td>\n",
       "    </tr>\n",
       "    <tr>\n",
       "      <th>1854</th>\n",
       "      <td>Double Haul IPA (2009)</td>\n",
       "      <td>65.0</td>\n",
       "    </tr>\n",
       "    <tr>\n",
       "      <th>2013</th>\n",
       "      <td>Big Sky IPA (2012)</td>\n",
       "      <td>65.0</td>\n",
       "    </tr>\n",
       "    <tr>\n",
       "      <th>2017</th>\n",
       "      <td>Westbrook IPA</td>\n",
       "      <td>65.0</td>\n",
       "    </tr>\n",
       "    <tr>\n",
       "      <th>1794</th>\n",
       "      <td>Dale's Pale Ale (2012)</td>\n",
       "      <td>65.0</td>\n",
       "    </tr>\n",
       "    <tr>\n",
       "      <th>1745</th>\n",
       "      <td>Dale's Pale Ale (10 Year Anniversary)</td>\n",
       "      <td>65.0</td>\n",
       "    </tr>\n",
       "    <tr>\n",
       "      <th>1597</th>\n",
       "      <td>Outlaw IPA</td>\n",
       "      <td>65.0</td>\n",
       "    </tr>\n",
       "    <tr>\n",
       "      <th>1140</th>\n",
       "      <td>Modus Hoperandi</td>\n",
       "      <td>65.0</td>\n",
       "    </tr>\n",
       "    <tr>\n",
       "      <th>1580</th>\n",
       "      <td>Dale's Pale Ale</td>\n",
       "      <td>65.0</td>\n",
       "    </tr>\n",
       "    <tr>\n",
       "      <th>1509</th>\n",
       "      <td>José Martí American Porter</td>\n",
       "      <td>65.0</td>\n",
       "    </tr>\n",
       "    <tr>\n",
       "      <th>1501</th>\n",
       "      <td>Nebraska India Pale Ale</td>\n",
       "      <td>65.0</td>\n",
       "    </tr>\n",
       "    <tr>\n",
       "      <th>1483</th>\n",
       "      <td>Dale's Pale Ale</td>\n",
       "      <td>65.0</td>\n",
       "    </tr>\n",
       "    <tr>\n",
       "      <th>1400</th>\n",
       "      <td>Dale's Pale Ale</td>\n",
       "      <td>65.0</td>\n",
       "    </tr>\n",
       "    <tr>\n",
       "      <th>1370</th>\n",
       "      <td>Nice Rack IPA</td>\n",
       "      <td>65.0</td>\n",
       "    </tr>\n",
       "    <tr>\n",
       "      <th>1343</th>\n",
       "      <td>Face Plant IPA</td>\n",
       "      <td>65.0</td>\n",
       "    </tr>\n",
       "    <tr>\n",
       "      <th>2115</th>\n",
       "      <td>Bourbon's Barrel Stout</td>\n",
       "      <td>65.0</td>\n",
       "    </tr>\n",
       "    <tr>\n",
       "      <th>1264</th>\n",
       "      <td>Sanitas Black IPA</td>\n",
       "      <td>65.0</td>\n",
       "    </tr>\n",
       "    <tr>\n",
       "      <th>1256</th>\n",
       "      <td>Heal the Bay IPA</td>\n",
       "      <td>65.0</td>\n",
       "    </tr>\n",
       "    <tr>\n",
       "      <th>1214</th>\n",
       "      <td>Dale's Pale Ale</td>\n",
       "      <td>65.0</td>\n",
       "    </tr>\n",
       "    <tr>\n",
       "      <th>1173</th>\n",
       "      <td>Falling Down Brown Ale</td>\n",
       "      <td>65.0</td>\n",
       "    </tr>\n",
       "    <tr>\n",
       "      <th>1871</th>\n",
       "      <td>Dale's Pale Ale (2002)</td>\n",
       "      <td>65.0</td>\n",
       "    </tr>\n",
       "    <tr>\n",
       "      <th>2415</th>\n",
       "      <td>Dale's Pale Ale</td>\n",
       "      <td>65.0</td>\n",
       "    </tr>\n",
       "  </tbody>\n",
       "</table>\n",
       "<p>346 rows × 2 columns</p>\n",
       "</div>"
      ],
      "text/plain": [
       "                                       Beer   IBUs\n",
       "1662              Bitter Bitch Imperial IPA  138.0\n",
       "989                      Troopers Alley IPA  135.0\n",
       "611                           Dead-Eye DIPA  130.0\n",
       "249         Bay of Bengal Double IPA (2014)  126.0\n",
       "1537                           Heady Topper  120.0\n",
       "2403                           Abrasive Ale  120.0\n",
       "2182                           Heady Topper  120.0\n",
       "556                            More Cowbell  118.0\n",
       "1783             On the Wings of Armageddon  115.0\n",
       "1209                  Overlord Imperial IPA  115.0\n",
       "218                        Hopkick Dropkick  115.0\n",
       "186                              Hop A-Peel  115.0\n",
       "1168                          Blazing World  115.0\n",
       "2394                                113 IPA  113.0\n",
       "969                                  Hi-Res  111.0\n",
       "938                        Red Cockaded Ale  110.0\n",
       "1633                Red Cockaded Ale (2013)  110.0\n",
       "1627                              Ethos IPA  110.0\n",
       "861                     Hoptopus Double IPA  108.0\n",
       "1724                       Frankenlou's IPA  105.0\n",
       "905                      Hemlock Double IPA  104.0\n",
       "1055                         Half Cycle IPA  104.0\n",
       "1972                                  Resin  103.0\n",
       "2234               Snake Handler Double IPA  103.0\n",
       "288                Yellow Wolf Imperial IPA  103.0\n",
       "1104                           Double Trunk  101.0\n",
       "274                  Unchained #18 Hop Silo  100.0\n",
       "1216                                 F5 IPA  100.0\n",
       "584                                 Epitome  100.0\n",
       "1473                       Redacted Rye IPA  100.0\n",
       "...                                     ...    ...\n",
       "1687                        Dale's Pale Ale   65.0\n",
       "1870                 Dale's Pale Ale (2003)   65.0\n",
       "1869                 Dale's Pale Ale (2004)   65.0\n",
       "1868                 Dale's Pale Ale (2006)   65.0\n",
       "1961                              Hoppy Boy   65.0\n",
       "1867                 Dale's Pale Ale (2008)   65.0\n",
       "1859                 Dale's Pale Ale (2010)   65.0\n",
       "1858                 Dale's Pale Ale (2011)   65.0\n",
       "1855                 Double Haul IPA (2006)   65.0\n",
       "1854                 Double Haul IPA (2009)   65.0\n",
       "2013                     Big Sky IPA (2012)   65.0\n",
       "2017                          Westbrook IPA   65.0\n",
       "1794                 Dale's Pale Ale (2012)   65.0\n",
       "1745  Dale's Pale Ale (10 Year Anniversary)   65.0\n",
       "1597                             Outlaw IPA   65.0\n",
       "1140                        Modus Hoperandi   65.0\n",
       "1580                        Dale's Pale Ale   65.0\n",
       "1509             José Martí American Porter   65.0\n",
       "1501                Nebraska India Pale Ale   65.0\n",
       "1483                        Dale's Pale Ale   65.0\n",
       "1400                        Dale's Pale Ale   65.0\n",
       "1370                          Nice Rack IPA   65.0\n",
       "1343                         Face Plant IPA   65.0\n",
       "2115                 Bourbon's Barrel Stout   65.0\n",
       "1264                      Sanitas Black IPA   65.0\n",
       "1256                       Heal the Bay IPA   65.0\n",
       "1214                        Dale's Pale Ale   65.0\n",
       "1173                 Falling Down Brown Ale   65.0\n",
       "1871                 Dale's Pale Ale (2002)   65.0\n",
       "2415                        Dale's Pale Ale   65.0\n",
       "\n",
       "[346 rows x 2 columns]"
      ]
     },
     "execution_count": 17,
     "metadata": {},
     "output_type": "execute_result"
    }
   ],
   "source": [
    "df[df[\"IBUs\"]>df[\"IBUs\"].quantile(0.75)][[\"Beer\",\"IBUs\"]].sort_values(\"IBUs\",ascending=False)"
   ]
  },
  {
   "cell_type": "markdown",
   "metadata": {},
   "source": [
    "## List all of the beers with IBUs below the 25th percentile"
   ]
  },
  {
   "cell_type": "code",
   "execution_count": 18,
   "metadata": {},
   "outputs": [
    {
     "data": {
      "text/html": [
       "<div>\n",
       "<style>\n",
       "    .dataframe thead tr:only-child th {\n",
       "        text-align: right;\n",
       "    }\n",
       "\n",
       "    .dataframe thead th {\n",
       "        text-align: left;\n",
       "    }\n",
       "\n",
       "    .dataframe tbody tr th {\n",
       "        vertical-align: top;\n",
       "    }\n",
       "</style>\n",
       "<table border=\"1\" class=\"dataframe\">\n",
       "  <thead>\n",
       "    <tr style=\"text-align: right;\">\n",
       "      <th></th>\n",
       "      <th>Beer</th>\n",
       "      <th>IBUs</th>\n",
       "    </tr>\n",
       "  </thead>\n",
       "  <tbody>\n",
       "    <tr>\n",
       "      <th>1303</th>\n",
       "      <td>Summer Solstice</td>\n",
       "      <td>4.0</td>\n",
       "    </tr>\n",
       "    <tr>\n",
       "      <th>1860</th>\n",
       "      <td>Summer Solstice Cerveza Crema (2009)</td>\n",
       "      <td>4.0</td>\n",
       "    </tr>\n",
       "    <tr>\n",
       "      <th>2339</th>\n",
       "      <td>Summer Solstice (2011)</td>\n",
       "      <td>4.0</td>\n",
       "    </tr>\n",
       "    <tr>\n",
       "      <th>1903</th>\n",
       "      <td>Devils Tramping Ground Tripel</td>\n",
       "      <td>5.0</td>\n",
       "    </tr>\n",
       "    <tr>\n",
       "      <th>318</th>\n",
       "      <td>18th Anniversary Gose</td>\n",
       "      <td>5.0</td>\n",
       "    </tr>\n",
       "    <tr>\n",
       "      <th>1061</th>\n",
       "      <td>Chickawawa Lemonale</td>\n",
       "      <td>5.0</td>\n",
       "    </tr>\n",
       "    <tr>\n",
       "      <th>1340</th>\n",
       "      <td>Westbrook Gose</td>\n",
       "      <td>5.0</td>\n",
       "    </tr>\n",
       "    <tr>\n",
       "      <th>169</th>\n",
       "      <td>Yo Soy Un Berliner</td>\n",
       "      <td>5.0</td>\n",
       "    </tr>\n",
       "    <tr>\n",
       "      <th>313</th>\n",
       "      <td>Mr. Blue Sky</td>\n",
       "      <td>6.0</td>\n",
       "    </tr>\n",
       "    <tr>\n",
       "      <th>1240</th>\n",
       "      <td>Weiss Trash Culture</td>\n",
       "      <td>6.0</td>\n",
       "    </tr>\n",
       "    <tr>\n",
       "      <th>2064</th>\n",
       "      <td>Winter Solstice</td>\n",
       "      <td>6.0</td>\n",
       "    </tr>\n",
       "    <tr>\n",
       "      <th>2298</th>\n",
       "      <td>O'Fallon Wheach</td>\n",
       "      <td>7.0</td>\n",
       "    </tr>\n",
       "    <tr>\n",
       "      <th>1426</th>\n",
       "      <td>Point Nude Beach Summer Wheat</td>\n",
       "      <td>7.0</td>\n",
       "    </tr>\n",
       "    <tr>\n",
       "      <th>1505</th>\n",
       "      <td>Samuel Adams Summer Ale</td>\n",
       "      <td>7.0</td>\n",
       "    </tr>\n",
       "    <tr>\n",
       "      <th>421</th>\n",
       "      <td>Rad</td>\n",
       "      <td>7.0</td>\n",
       "    </tr>\n",
       "    <tr>\n",
       "      <th>2289</th>\n",
       "      <td>Point Nude Beach Summer Wheat (2010)</td>\n",
       "      <td>7.0</td>\n",
       "    </tr>\n",
       "    <tr>\n",
       "      <th>1801</th>\n",
       "      <td>Point Nude Beach Summer Wheat</td>\n",
       "      <td>7.0</td>\n",
       "    </tr>\n",
       "    <tr>\n",
       "      <th>1842</th>\n",
       "      <td>Point Nude Beach Summer Wheat (2011)</td>\n",
       "      <td>7.0</td>\n",
       "    </tr>\n",
       "    <tr>\n",
       "      <th>105</th>\n",
       "      <td>Gose</td>\n",
       "      <td>8.0</td>\n",
       "    </tr>\n",
       "    <tr>\n",
       "      <th>838</th>\n",
       "      <td>Porch Rocker</td>\n",
       "      <td>8.0</td>\n",
       "    </tr>\n",
       "    <tr>\n",
       "      <th>778</th>\n",
       "      <td>Black Market Hefeweizen</td>\n",
       "      <td>8.0</td>\n",
       "    </tr>\n",
       "    <tr>\n",
       "      <th>453</th>\n",
       "      <td>American Lager</td>\n",
       "      <td>8.0</td>\n",
       "    </tr>\n",
       "    <tr>\n",
       "      <th>2053</th>\n",
       "      <td>Dirty Blonde Ale</td>\n",
       "      <td>8.0</td>\n",
       "    </tr>\n",
       "    <tr>\n",
       "      <th>2018</th>\n",
       "      <td>Blackbeary Wheat</td>\n",
       "      <td>8.0</td>\n",
       "    </tr>\n",
       "    <tr>\n",
       "      <th>454</th>\n",
       "      <td>American Amber</td>\n",
       "      <td>8.0</td>\n",
       "    </tr>\n",
       "    <tr>\n",
       "      <th>658</th>\n",
       "      <td>Ale Cider</td>\n",
       "      <td>8.0</td>\n",
       "    </tr>\n",
       "    <tr>\n",
       "      <th>159</th>\n",
       "      <td>Daft Funk</td>\n",
       "      <td>8.0</td>\n",
       "    </tr>\n",
       "    <tr>\n",
       "      <th>557</th>\n",
       "      <td>Point Special (2013)</td>\n",
       "      <td>9.0</td>\n",
       "    </tr>\n",
       "    <tr>\n",
       "      <th>2292</th>\n",
       "      <td>Point Special Lager</td>\n",
       "      <td>9.0</td>\n",
       "    </tr>\n",
       "    <tr>\n",
       "      <th>1139</th>\n",
       "      <td>Agave Wheat</td>\n",
       "      <td>9.0</td>\n",
       "    </tr>\n",
       "    <tr>\n",
       "      <th>...</th>\n",
       "      <td>...</td>\n",
       "      <td>...</td>\n",
       "    </tr>\n",
       "    <tr>\n",
       "      <th>1887</th>\n",
       "      <td>Hilliard's Blonde</td>\n",
       "      <td>20.0</td>\n",
       "    </tr>\n",
       "    <tr>\n",
       "      <th>1652</th>\n",
       "      <td>Get Up Offa That Brown</td>\n",
       "      <td>20.0</td>\n",
       "    </tr>\n",
       "    <tr>\n",
       "      <th>1710</th>\n",
       "      <td>Booyah Farmhouse Ale</td>\n",
       "      <td>20.0</td>\n",
       "    </tr>\n",
       "    <tr>\n",
       "      <th>1734</th>\n",
       "      <td>Pumpkan</td>\n",
       "      <td>20.0</td>\n",
       "    </tr>\n",
       "    <tr>\n",
       "      <th>1848</th>\n",
       "      <td>Buffalo Sweat</td>\n",
       "      <td>20.0</td>\n",
       "    </tr>\n",
       "    <tr>\n",
       "      <th>1779</th>\n",
       "      <td>Bombshell Blonde</td>\n",
       "      <td>20.0</td>\n",
       "    </tr>\n",
       "    <tr>\n",
       "      <th>1335</th>\n",
       "      <td>Steel Rail Extra Pale Ale</td>\n",
       "      <td>20.0</td>\n",
       "    </tr>\n",
       "    <tr>\n",
       "      <th>1334</th>\n",
       "      <td>Wild Wolf Wee Heavy Scottish Style Ale</td>\n",
       "      <td>20.0</td>\n",
       "    </tr>\n",
       "    <tr>\n",
       "      <th>1320</th>\n",
       "      <td>Greenbelt Farmhouse Ale</td>\n",
       "      <td>20.0</td>\n",
       "    </tr>\n",
       "    <tr>\n",
       "      <th>2011</th>\n",
       "      <td>312 Urban Wheat Ale (2012)</td>\n",
       "      <td>20.0</td>\n",
       "    </tr>\n",
       "    <tr>\n",
       "      <th>899</th>\n",
       "      <td>Stone Fort Brown Ale</td>\n",
       "      <td>20.0</td>\n",
       "    </tr>\n",
       "    <tr>\n",
       "      <th>933</th>\n",
       "      <td>805</td>\n",
       "      <td>20.0</td>\n",
       "    </tr>\n",
       "    <tr>\n",
       "      <th>978</th>\n",
       "      <td>Schweet Ale</td>\n",
       "      <td>20.0</td>\n",
       "    </tr>\n",
       "    <tr>\n",
       "      <th>2085</th>\n",
       "      <td>Double D Blonde (2011)</td>\n",
       "      <td>20.0</td>\n",
       "    </tr>\n",
       "    <tr>\n",
       "      <th>1021</th>\n",
       "      <td>Banner American Rye</td>\n",
       "      <td>20.0</td>\n",
       "    </tr>\n",
       "    <tr>\n",
       "      <th>1087</th>\n",
       "      <td>Lahaina Town Brown</td>\n",
       "      <td>20.0</td>\n",
       "    </tr>\n",
       "    <tr>\n",
       "      <th>2067</th>\n",
       "      <td>SoDo Brown Ale</td>\n",
       "      <td>20.0</td>\n",
       "    </tr>\n",
       "    <tr>\n",
       "      <th>2065</th>\n",
       "      <td>McKinney Eddy Amber Ale</td>\n",
       "      <td>20.0</td>\n",
       "    </tr>\n",
       "    <tr>\n",
       "      <th>876</th>\n",
       "      <td>Hot Date Ale</td>\n",
       "      <td>20.0</td>\n",
       "    </tr>\n",
       "    <tr>\n",
       "      <th>1119</th>\n",
       "      <td>Starr Pils</td>\n",
       "      <td>20.0</td>\n",
       "    </tr>\n",
       "    <tr>\n",
       "      <th>1205</th>\n",
       "      <td>Norns Roggenbier</td>\n",
       "      <td>20.0</td>\n",
       "    </tr>\n",
       "    <tr>\n",
       "      <th>1206</th>\n",
       "      <td>Laimas Kölsch Style Ale</td>\n",
       "      <td>20.0</td>\n",
       "    </tr>\n",
       "    <tr>\n",
       "      <th>1252</th>\n",
       "      <td>Horny Monk</td>\n",
       "      <td>20.0</td>\n",
       "    </tr>\n",
       "    <tr>\n",
       "      <th>2404</th>\n",
       "      <td>Hell</td>\n",
       "      <td>20.0</td>\n",
       "    </tr>\n",
       "    <tr>\n",
       "      <th>2033</th>\n",
       "      <td>Jon Boat Coastal Ale</td>\n",
       "      <td>20.0</td>\n",
       "    </tr>\n",
       "    <tr>\n",
       "      <th>1263</th>\n",
       "      <td>Sanitas Saison Ale</td>\n",
       "      <td>20.0</td>\n",
       "    </tr>\n",
       "    <tr>\n",
       "      <th>1265</th>\n",
       "      <td>Double D Blonde (2013)</td>\n",
       "      <td>20.0</td>\n",
       "    </tr>\n",
       "    <tr>\n",
       "      <th>1313</th>\n",
       "      <td>UFO Pumpkin</td>\n",
       "      <td>20.0</td>\n",
       "    </tr>\n",
       "    <tr>\n",
       "      <th>1204</th>\n",
       "      <td>Parcae Belgian Style Pale Ale</td>\n",
       "      <td>20.0</td>\n",
       "    </tr>\n",
       "    <tr>\n",
       "      <th>1261</th>\n",
       "      <td>Old Forge Pumpkin Ale</td>\n",
       "      <td>20.0</td>\n",
       "    </tr>\n",
       "  </tbody>\n",
       "</table>\n",
       "<p>338 rows × 2 columns</p>\n",
       "</div>"
      ],
      "text/plain": [
       "                                        Beer  IBUs\n",
       "1303                         Summer Solstice   4.0\n",
       "1860    Summer Solstice Cerveza Crema (2009)   4.0\n",
       "2339                  Summer Solstice (2011)   4.0\n",
       "1903           Devils Tramping Ground Tripel   5.0\n",
       "318                    18th Anniversary Gose   5.0\n",
       "1061                     Chickawawa Lemonale   5.0\n",
       "1340                          Westbrook Gose   5.0\n",
       "169                       Yo Soy Un Berliner   5.0\n",
       "313                             Mr. Blue Sky   6.0\n",
       "1240                     Weiss Trash Culture   6.0\n",
       "2064                         Winter Solstice   6.0\n",
       "2298                         O'Fallon Wheach   7.0\n",
       "1426           Point Nude Beach Summer Wheat   7.0\n",
       "1505                 Samuel Adams Summer Ale   7.0\n",
       "421                                      Rad   7.0\n",
       "2289    Point Nude Beach Summer Wheat (2010)   7.0\n",
       "1801           Point Nude Beach Summer Wheat   7.0\n",
       "1842    Point Nude Beach Summer Wheat (2011)   7.0\n",
       "105                                     Gose   8.0\n",
       "838                             Porch Rocker   8.0\n",
       "778                  Black Market Hefeweizen   8.0\n",
       "453                           American Lager   8.0\n",
       "2053                        Dirty Blonde Ale   8.0\n",
       "2018                        Blackbeary Wheat   8.0\n",
       "454                           American Amber   8.0\n",
       "658                                Ale Cider   8.0\n",
       "159                                Daft Funk   8.0\n",
       "557                     Point Special (2013)   9.0\n",
       "2292                     Point Special Lager   9.0\n",
       "1139                             Agave Wheat   9.0\n",
       "...                                      ...   ...\n",
       "1887                       Hilliard's Blonde  20.0\n",
       "1652                  Get Up Offa That Brown  20.0\n",
       "1710                    Booyah Farmhouse Ale  20.0\n",
       "1734                                 Pumpkan  20.0\n",
       "1848                           Buffalo Sweat  20.0\n",
       "1779                        Bombshell Blonde  20.0\n",
       "1335               Steel Rail Extra Pale Ale  20.0\n",
       "1334  Wild Wolf Wee Heavy Scottish Style Ale  20.0\n",
       "1320                 Greenbelt Farmhouse Ale  20.0\n",
       "2011              312 Urban Wheat Ale (2012)  20.0\n",
       "899                     Stone Fort Brown Ale  20.0\n",
       "933                                      805  20.0\n",
       "978                              Schweet Ale  20.0\n",
       "2085                  Double D Blonde (2011)  20.0\n",
       "1021                     Banner American Rye  20.0\n",
       "1087                      Lahaina Town Brown  20.0\n",
       "2067                          SoDo Brown Ale  20.0\n",
       "2065                 McKinney Eddy Amber Ale  20.0\n",
       "876                             Hot Date Ale  20.0\n",
       "1119                              Starr Pils  20.0\n",
       "1205                        Norns Roggenbier  20.0\n",
       "1206                 Laimas Kölsch Style Ale  20.0\n",
       "1252                              Horny Monk  20.0\n",
       "2404                                    Hell  20.0\n",
       "2033                    Jon Boat Coastal Ale  20.0\n",
       "1263                      Sanitas Saison Ale  20.0\n",
       "1265                  Double D Blonde (2013)  20.0\n",
       "1313                             UFO Pumpkin  20.0\n",
       "1204           Parcae Belgian Style Pale Ale  20.0\n",
       "1261                   Old Forge Pumpkin Ale  20.0\n",
       "\n",
       "[338 rows x 2 columns]"
      ]
     },
     "execution_count": 18,
     "metadata": {},
     "output_type": "execute_result"
    }
   ],
   "source": [
    "df[df[\"IBUs\"]<df[\"IBUs\"].quantile(0.25)][[\"Beer\",\"IBUs\"]].sort_values(\"IBUs\",ascending=True)"
   ]
  },
  {
   "cell_type": "markdown",
   "metadata": {},
   "source": [
    "## List the median IBUs of each type of beer. Graph it.\n",
    "\n",
    "Put the highest at the top, and the nan ones at the bottom. I want a nice graph, too - don't let them all be squished together, either!"
   ]
  },
  {
   "cell_type": "code",
   "execution_count": 19,
   "metadata": {},
   "outputs": [
    {
     "data": {
      "text/plain": [
       "Style\n",
       "American Barleywine                    96.000000\n",
       "American Double / Imperial IPA         93.320000\n",
       "Russian Imperial Stout                 86.500000\n",
       "American Double / Imperial Pilsner     85.000000\n",
       "Belgian Strong Dark Ale                72.000000\n",
       "American Black Ale                     68.900000\n",
       "American IPA                           67.634551\n",
       "English Barleywine                     66.666667\n",
       "English Stout                          66.000000\n",
       "American Strong Ale                    65.416667\n",
       "American India Pale Lager              63.333333\n",
       "American Double / Imperial Stout       62.000000\n",
       "Belgian IPA                            57.000000\n",
       "English India Pale Ale (IPA)           54.714286\n",
       "English Strong Ale                     54.000000\n",
       "Baltic Porter                          54.000000\n",
       "Rye Beer                               52.000000\n",
       "American White IPA                     48.833333\n",
       "Extra Special / Strong Bitter (ESB)    45.714286\n",
       "American Pale Ale (APA)                44.941176\n",
       "American Stout                         41.312500\n",
       "California Common / Steam Beer         41.000000\n",
       "Old Ale                                40.000000\n",
       "Irish Dry Stout                        38.666667\n",
       "Foreign / Export Stout                 38.666667\n",
       "American Amber / Red Ale               36.298701\n",
       "Smoked Beer                            35.000000\n",
       "German Pilsener                        34.176471\n",
       "Altbier                                34.125000\n",
       "Czech Pilsener                         33.812500\n",
       "                                         ...    \n",
       "Abbey Single Ale                       22.000000\n",
       "Euro Pale Lager                        22.000000\n",
       "Kölsch                                 21.777778\n",
       "Dubbel                                 21.000000\n",
       "American Blonde Ale                    20.983607\n",
       "American Pale Wheat Ale                20.688525\n",
       "Munich Dunkel Lager                    20.333333\n",
       "Cream Ale                              20.333333\n",
       "Roggenbier                             20.000000\n",
       "Radler                                 19.666667\n",
       "Munich Helles Lager                    17.916667\n",
       "Hefeweizen                             17.592593\n",
       "Witbier                                16.208333\n",
       "Other                                  16.000000\n",
       "English Pale Mild Ale                  16.000000\n",
       "Dunkelweizen                           16.000000\n",
       "Fruit / Vegetable Beer                 14.200000\n",
       "Light Lager                            11.666667\n",
       "American Adjunct Lager                 11.000000\n",
       "Gose                                    9.428571\n",
       "Berliner Weissbier                      7.800000\n",
       "American Malt Liquor                         NaN\n",
       "Braggot                                      NaN\n",
       "Cider                                        NaN\n",
       "Flanders Red Ale                             NaN\n",
       "Kristalweizen                                NaN\n",
       "Low Alcohol Beer                             NaN\n",
       "Mead                                         NaN\n",
       "Rauchbier                                    NaN\n",
       "Shandy                                       NaN\n",
       "Name: IBUs, Length: 99, dtype: float64"
      ]
     },
     "execution_count": 19,
     "metadata": {},
     "output_type": "execute_result"
    }
   ],
   "source": [
    "df[[\"Style\",\"IBUs\"]].groupby(\"Style\")[\"IBUs\"].mean().sort_values(ascending=False)"
   ]
  },
  {
   "cell_type": "code",
   "execution_count": 20,
   "metadata": {},
   "outputs": [
    {
     "data": {
      "text/plain": [
       "<matplotlib.axes._subplots.AxesSubplot at 0x102c30f60>"
      ]
     },
     "execution_count": 20,
     "metadata": {},
     "output_type": "execute_result"
    },
    {
     "data": {
      "image/png": "[encoded data removed]",
      "text/plain": [
       "<matplotlib.figure.Figure at 0x101e9d1d0>"
      ]
     },
     "metadata": {},
     "output_type": "display_data"
    }
   ],
   "source": [
    "df[[\"Style\",\"IBUs\"]].dropna().groupby(\"Style\")[\"IBUs\"].mean().sort_values(ascending=True).plot(kind=\"barh\",figsize=(20,20))"
   ]
  },
  {
   "cell_type": "markdown",
   "metadata": {},
   "source": [
    "## Hmmmm, it looks like they are generally different styles. What are the most common 5 styles of high-IBU beer vs. low-IBU beer?\n",
    "\n",
    "You'll want to think about it in three pieces - finding the high IBU beers, then finding out what the most common styles are, then getting the top 5."
   ]
  },
  {
   "cell_type": "code",
   "execution_count": 21,
   "metadata": {},
   "outputs": [
    {
     "data": {
      "text/plain": [
       "Style\n",
       "American IPA                      195\n",
       "American Double / Imperial IPA     72\n",
       "American Pale Ale (APA)            18\n",
       "American Black Ale                 15\n",
       "American Strong Ale                 9\n",
       "Name: IBUs, dtype: int64"
      ]
     },
     "execution_count": 21,
     "metadata": {},
     "output_type": "execute_result"
    }
   ],
   "source": [
    "df[df[\"IBUs\"]>df[\"IBUs\"].quantile(0.75)].groupby(\"Style\")[\"IBUs\"].count().sort_values(ascending=False).head(5)"
   ]
  },
  {
   "cell_type": "code",
   "execution_count": 22,
   "metadata": {},
   "outputs": [
    {
     "data": {
      "text/plain": [
       "Style\n",
       "American Pale Wheat Ale    43\n",
       "American Blonde Ale        36\n",
       "Fruit / Vegetable Beer     28\n",
       "Hefeweizen                 21\n",
       "Witbier                    20\n",
       "Name: IBUs, dtype: int64"
      ]
     },
     "execution_count": 22,
     "metadata": {},
     "output_type": "execute_result"
    }
   ],
   "source": [
    "df[df[\"IBUs\"]<df[\"IBUs\"].quantile(0.25)].groupby(\"Style\")[\"IBUs\"].count().sort_values(ascending=False).head(5)"
   ]
  },
  {
   "cell_type": "markdown",
   "metadata": {},
   "source": [
    "## Get the average IBU of \"Witbier\", \"Hefeweizen\" and \"American Pale Wheat Ale\" styles (also draw a histogram)\n",
    "\n",
    "I want ONE measurement and ONE graph, not three separate ones. And 20 to 30 bins in the histogram, please."
   ]
  },
  {
   "cell_type": "code",
   "execution_count": 23,
   "metadata": {},
   "outputs": [
    {
     "data": {
      "text/plain": [
       "Style\n",
       "American Pale Wheat Ale    20.688525\n",
       "Hefeweizen                 17.592593\n",
       "Witbier                    16.208333\n",
       "Name: IBUs, dtype: float64"
      ]
     },
     "execution_count": 23,
     "metadata": {},
     "output_type": "execute_result"
    }
   ],
   "source": [
    "df[df[\"Style\"].isin([\"Witbier\",\"Hefeweizen\",\"American Pale Wheat Ale\"])].groupby(\"Style\")[\"IBUs\"].mean()"
   ]
  },
  {
   "cell_type": "code",
   "execution_count": 24,
   "metadata": {},
   "outputs": [
    {
     "data": {
      "text/plain": [
       "<matplotlib.axes._subplots.AxesSubplot at 0x1062b3f28>"
      ]
     },
     "execution_count": 24,
     "metadata": {},
     "output_type": "execute_result"
    },
    {
     "data": {
      "image/png": "[encoded data removed]",
      "text/plain": [
       "<matplotlib.figure.Figure at 0x1065e17b8>"
      ]
     },
     "metadata": {},
     "output_type": "display_data"
    }
   ],
   "source": [
    "df[df[\"Style\"].isin([\"Witbier\",\"Hefeweizen\",\"American Pale Wheat Ale\"])][\"IBUs\"].hist(bins=30)"
   ]
  },
  {
   "cell_type": "markdown",
   "metadata": {},
   "source": [
    "## Get the average IBU of any style with \"IPA\" in it (also draw a histogram)"
   ]
  },
  {
   "cell_type": "code",
   "execution_count": 25,
   "metadata": {},
   "outputs": [
    {
     "data": {
      "text/plain": [
       "71.948979591836732"
      ]
     },
     "execution_count": 25,
     "metadata": {},
     "output_type": "execute_result"
    }
   ],
   "source": [
    "df[df[\"Style\"].str.contains(\"IPA\",na=False)][\"IBUs\"].mean()"
   ]
  },
  {
   "cell_type": "code",
   "execution_count": 26,
   "metadata": {},
   "outputs": [
    {
     "data": {
      "text/plain": [
       "<matplotlib.axes._subplots.AxesSubplot at 0x10768d8d0>"
      ]
     },
     "execution_count": 26,
     "metadata": {},
     "output_type": "execute_result"
    },
    {
     "data": {
      "image/png": "[encoded data removed]",
      "text/plain": [
       "<matplotlib.figure.Figure at 0x1076a89e8>"
      ]
     },
     "metadata": {},
     "output_type": "display_data"
    }
   ],
   "source": [
    "df[df[\"Style\"].str.contains(\"IPA\",na=False)][\"IBUs\"].hist(bins=30)"
   ]
  },
  {
   "cell_type": "markdown",
   "metadata": {},
   "source": [
    "## Plot those two histograms on top of one another"
   ]
  },
  {
   "cell_type": "code",
   "execution_count": 27,
   "metadata": {},
   "outputs": [
    {
     "data": {
      "text/plain": [
       "<matplotlib.axes._subplots.AxesSubplot at 0x1076d73c8>"
      ]
     },
     "execution_count": 27,
     "metadata": {},
     "output_type": "execute_result"
    },
    {
     "data": {
      "image/png": "[encoded data removed]",
      "text/plain": [
       "<matplotlib.figure.Figure at 0x1077aa6d8>"
      ]
     },
     "metadata": {},
     "output_type": "display_data"
    }
   ],
   "source": [
    "#alternative 1\n",
    "df[df[\"Style\"].str.contains(\"IPA\",na=False) | df[\"Style\"].isin([\"Witbier\",\"Hefeweizen\",\"American Pale Wheat Ale\"])][\"IBUs\"].hist(bins=30)"
   ]
  },
  {
   "cell_type": "code",
   "execution_count": 69,
   "metadata": {},
   "outputs": [
    {
     "data": {
      "text/plain": [
       "<matplotlib.axes._subplots.AxesSubplot at 0x10a5e2ef0>"
      ]
     },
     "execution_count": 69,
     "metadata": {},
     "output_type": "execute_result"
    },
    {
     "data": {
      "image/png": "[encoded data removed]",
      "text/plain": [
       "<matplotlib.figure.Figure at 0x109b3ab70>"
      ]
     },
     "metadata": {},
     "output_type": "display_data"
    }
   ],
   "source": [
    "#alternative 2\n",
    "import numpy as np\n",
    "df[df[\"Style\"].str.contains(\"IPA\",na=False)][\"IBUs\"].hist(bins=np.arange(10, 150, 5),alpha=0.5)\n",
    "df[df[\"Style\"].isin([\"Witbier\",\"Hefeweizen\",\"American Pale Wheat Ale\"])][\"IBUs\"]\\\n",
    ".hist(bins=np.arange(10, 150, 5),alpha=0.5)"
   ]
  },
  {
   "cell_type": "markdown",
   "metadata": {},
   "source": [
    "## Compare the ABV of wheat beers vs. IPAs "
   ]
  },
  {
   "cell_type": "code",
   "execution_count": 70,
   "metadata": {
    "collapsed": true
   },
   "outputs": [],
   "source": [
    "wheat_ABV = df[df[\"Style\"].isin([\"Witbier\",\"Hefeweizen\",\"American Pale Wheat Ale\"])][\"ABV cleaned\"].mean()"
   ]
  },
  {
   "cell_type": "code",
   "execution_count": 71,
   "metadata": {
    "collapsed": true
   },
   "outputs": [],
   "source": [
    "IPA_ABV = df[df[\"Style\"].str.contains(\"IPA\",na=False)][\"ABV cleaned\"].mean()"
   ]
  },
  {
   "cell_type": "code",
   "execution_count": 92,
   "metadata": {},
   "outputs": [
    {
     "data": {
      "text/plain": [
       "<matplotlib.lines.Line2D at 0x10bdabda0>"
      ]
     },
     "execution_count": 92,
     "metadata": {},
     "output_type": "execute_result"
    },
    {
     "data": {
      "image/png": "[encoded data removed]",
      "text/plain": [
       "<matplotlib.figure.Figure at 0x10b227780>"
      ]
     },
     "metadata": {},
     "output_type": "display_data"
    }
   ],
   "source": [
    "#histogram showing the mean ABV of the two beer types\n",
    "import numpy as np\n",
    "df[df[\"Style\"].str.contains(\"IPA\",na=False)][\"ABV cleaned\"].hist(bins=np.arange(1, 10.5, 0.5),alpha=0.5).axvline(IPA_ABV, color='blue', linestyle='dashed', linewidth=2)\n",
    "df[df[\"Style\"].isin([\"Witbier\",\"Hefeweizen\",\"American Pale Wheat Ale\"])][\"ABV cleaned\"]\\\n",
    ".hist(bins=np.arange(1, 10.5, 0.5),alpha=0.5).axvline(wheat_ABV, color='orange', linestyle='dashed', linewidth=2)"
   ]
  },
  {
   "cell_type": "code",
   "execution_count": 72,
   "metadata": {
    "collapsed": true
   },
   "outputs": [],
   "source": [
    "difference_ABV = IPA_ABV - wheat_ABV"
   ]
  },
  {
   "cell_type": "code",
   "execution_count": 73,
   "metadata": {},
   "outputs": [
    {
     "name": "stdout",
     "output_type": "stream",
     "text": [
      "IPA beer has on average 1.84 per cent more alcohol.\n"
     ]
    }
   ],
   "source": [
    "print(\"IPA beer has on average\",round(difference_ABV,2),\"per cent more alcohol.\")"
   ]
  }
 ],
 "metadata": {
  "kernelspec": {
   "display_name": "Python 3",
   "language": "python",
   "name": "python3"
  },
  "language_info": {
   "codemirror_mode": {
    "name": "ipython",
    "version": 3
   },
   "file_extension": ".py",
   "mimetype": "text/x-python",
   "name": "python",
   "nbconvert_exporter": "python",
   "pygments_lexer": "ipython3",
   "version": "3.6.1"
  }
 },
 "nbformat": 4,
 "nbformat_minor": 2
}
