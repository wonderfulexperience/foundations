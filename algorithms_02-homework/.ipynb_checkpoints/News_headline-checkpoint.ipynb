{
 "cells": [
  {
   "cell_type": "code",
   "execution_count": 1,
   "metadata": {
    "collapsed": true
   },
   "outputs": [],
   "source": [
    "from bs4 import BeautifulSoup\n",
    "import requests"
   ]
  },
  {
   "cell_type": "code",
   "execution_count": 2,
   "metadata": {
    "collapsed": true
   },
   "outputs": [],
   "source": [
    "response = requests.get(\"https://www.20min.ch\")\n",
    "doc = BeautifulSoup(response.text,\"html.parser\")"
   ]
  },
  {
   "cell_type": "code",
   "execution_count": 13,
   "metadata": {
    "collapsed": true
   },
   "outputs": [],
   "source": [
    "headlines = doc.find_all(\"h2\")[0:9]"
   ]
  },
  {
   "cell_type": "code",
   "execution_count": 24,
   "metadata": {
    "collapsed": true
   },
   "outputs": [],
   "source": [
    "headlines_message = \"\"\n",
    "\n",
    "for headline in headlines:\n",
    "    headline_text = headline.text\n",
    "    headline_sub = headline.find_previous(\"h3\").text\n",
    "    headline_summary = headline.find_next(\"p\").text\n",
    "    headline_link = \"http://www.20min.ch\"+headline.find(\"a\")['href']\n",
    "    this_headline = headline_text+\"\\n\"+headline_sub+\"\\n\"+headline_summary+\"\\n\"+headline_link\n",
    "    headlines_message += this_headline + \"\\n\\n\""
   ]
  },
  {
   "cell_type": "code",
   "execution_count": 25,
   "metadata": {},
   "outputs": [
    {
     "name": "stdout",
     "output_type": "stream",
     "text": [
      "So lief das Einbürgerungsgespräch ab\n",
      "Deutscher abgelehnt \n",
      "Der Deutsche M. M. ist beim Interview vor der Einbürgerungskommission durchgefallen. Lesen Sie nach, welche Fragen ihm gestellt wurden. \n",
      "http://www.20min.ch/schweiz/news/story/So-lief-das-Einbuergerungsgespraech-ab-18930164\n",
      "\n",
      "Trump-Sprecher schmeisst den Bettel hin\n",
      "Weisses Haus\n",
      "Der Sprecher des Weissen Hauses, Sean Spicer, ist offenbar zurückgetreten. Er legte des öfteren unglückliche Auftritte vor der Medienvertretern hin. \n",
      "http://www.20min.ch/ausland/news/story/Trump-Sprecher-schmeisst-den-Bettel-hin-27676801\n",
      "\n",
      "Radpanzer kollidiert mit Auto\n",
      "Arbon TG\n",
      "Ein Panzer der Schweizer Armee ist mit einem Personenwagen zusammen gestossen. Zum Glück hat es in Arbon keine Verletzten gegeben. \n",
      "http://www.20min.ch/schweiz/ostschweiz/story/Radpanzer-kollidiert-mit-Auto-15288324\n",
      "\n",
      "Seien Sie als VIP bei einem Super-League-Spiel dabei\n",
      "Energy Challenge\n",
      "Wettbewerb - Endlich beginnt die neue Fussballsaison der Raiffeisen Super League! Machen Sie jetzt beim Gewinnspiel mit und sichern Sie sich zwei VIP-Plätze für eines der Spiele Ihrer Lieblingsmannschaft  an der Endverlosung von 10'000 Franken nehmen Sie automatisch teil. \n",
      "http://www.20min.chhttp://www.20min.ch/schweiz/energychallenge/promotion/story/22051972\n",
      "\n",
      "160 Nachbeben in der Ägäis – Schweizerin verletzt\n",
      "Kos/Bodrum\n",
      "Die Ferienregion ist nach dem grossen Beben nicht zur Ruhe gekommen. Zahlreiche Schweizer Touristen sind betroffen. \n",
      "http://www.20min.ch/panorama/news/story/160-Nachbeben-in-der--gaeis--ndash--Schweizerin-verletzt-21369804\n",
      "\n",
      "US-Bürger dürfen nicht mehr nach Nordkorea\n",
      "Einreiseverbot\n",
      "Ausweise von US-Bürgern, die trotz des Verbotes ins Land reisen wollen, werden für ungültig erklärt. \n",
      "http://www.20min.ch/ausland/news/story/US-Buerger-duerfen-nicht-mehr-nach-Nordkorea-10991294\n",
      "\n",
      "Spaziergängerin findet verkohlte Leiche in Wald\n",
      "Kanton Thurgau\n",
      "In einem Waldstück in Pulvershaus bei Erlen TG ist ein 41-jähriger Mann tot aufgefunden worden. Die Todesursache ist ein Rätsel. Die Polizei sucht Zeugen. \n",
      "http://www.20min.ch/schweiz/ostschweiz/story/Spaziergaengerin-findet-verkohlte-Leiche-in-Wald-26478498\n",
      "\n",
      "Gab es Geheimtreffen zwischen Autobauern?\n",
      "Kartell-Verdacht in Deutschland\n",
      "Die grossen deutschen Autokonzerne sollen laut einem Bericht geheime Absprachen getroffen – und so auch die Basis für den Dieselskandal gelegt haben. \n",
      "http://www.20min.ch/finance/news/story/Gab-es-Geheimtreffen-zwischen-Autobauern--17265895\n",
      "\n",
      "William und Kate reisen im Zug\n",
      "Deutschland-Besuch\n",
      "Das royale Paar hat die Pendler in Hamburg und Berlin überrascht: Fast wie normale Bürger sind der Prinz und die Herzogin in einen ICE eingestiegen. \n",
      "http://www.20min.ch/people/international/story/William-und-Kate-reisen-im-Zug-22282864\n",
      "\n",
      "\n"
     ]
    }
   ],
   "source": [
    "print(headlines_message)"
   ]
  },
  {
   "cell_type": "code",
   "execution_count": 30,
   "metadata": {},
   "outputs": [
    {
     "data": {
      "text/plain": [
       "<Response [200]>"
      ]
     },
     "execution_count": 30,
     "metadata": {},
     "output_type": "execute_result"
    }
   ],
   "source": [
    "import requests\n",
    "import json\n",
    "import time\n",
    "\n",
    "def send_message(this_message, this_subject, this_API):\n",
    "    return requests.post(\n",
    "        \"https://api.mailgun.net/v3/sandbox1b96f86f57274a0b85260981f5da32f6.mailgun.org/messages\",\n",
    "        auth=(\"api\", this_API),\n",
    "        data={\"from\": \"Alexander Trentin <postmaster@sandbox1b96f86f57274a0b85260981f5da32f6.mailgun.org>\",\n",
    "              \"to\": \"Alexander Trentin <alexander.trentin@gmail.com>\",\n",
    "              \"subject\": this_subject,\n",
    "              \"text\": this_message})\n",
    "\n",
    "def get_weather(this_API):\n",
    "   \n",
    "    latitude= '40.806290'\n",
    "    longitude = '-73.963005'\n",
    "    link_DarkSky = 'https://api.darksky.net/forecast/'+this_API+\\\n",
    "    '/'+latitude+\",\"+longitude+\"?exclude=['hourly','minutely','flags']&units=si\"\n",
    "\n",
    "    response = requests.get(link_DarkSky)\n",
    "    weather_data = response.json()\n",
    "    \n",
    "    temperature = weather_data['currently']['temperature']\n",
    "    summary = weather_data['currently']['summary']\n",
    "    high_temp = weather_data['daily']['data'][0]['temperatureMax']\n",
    "    low_temp = weather_data['daily']['data'][0]['temperatureMin']\n",
    "    if float(high_temp) > 30:\n",
    "        temp_feeling = \"hot\"\n",
    "    elif float(high_temp) > 20:\n",
    "        temp_feeling = \"warm\"\n",
    "    elif float(high_temp) > 10:\n",
    "        temp_feeling = \"moderate\"\n",
    "    else:\n",
    "        temp_feeling = \"cold\"\n",
    "\n",
    "    rain_check = weather_data['daily']['data'][0]['precipType']\n",
    "    rain_warning = \"\"\n",
    "    if rain_check == 'rain':\n",
    "        rain_warning = \" Bring your umbrella!\"\n",
    "\n",
    "    weather_message = \"Right now it is \"+str(int(round(temperature,0)))\\\n",
    "    +\" degrees celsius and \" + summary.lower()\\\n",
    "    + \". Today will be \"+temp_feeling+\" with a high of \"+str(int(round(high_temp,0)))\\\n",
    "    + \" degrees and a low of \"+str(int(round(low_temp,0)))\\\n",
    "    + \".\" + rain_warning\n",
    "    \n",
    "    return weather_message\n",
    "\n",
    "my_API_DarkSky = '282adbba512d7aa270bbe74a6151bcc0'\n",
    "my_message = get_weather(my_API_DarkSky)\n",
    "\n",
    "this_time = time.strftime(\"%i %p\")\n",
    "this_date = time.strftime(\"%B %d, %Y\")\n",
    "\n",
    "my_API_mailgun = \"key-d748844fcc73edb1aa4c9584d3a1c4ac\"\n",
    "my_subject = this_time + \" weather forecast: \"+ this_date\n",
    "\n",
    "send_message(my_message, my_subject, my_API_mailgun)"
   ]
  },
  {
   "cell_type": "code",
   "execution_count": 31,
   "metadata": {},
   "outputs": [
    {
     "data": {
      "text/plain": [
       "'i PM weather forecast: July 21, 2017'"
      ]
     },
     "execution_count": 31,
     "metadata": {},
     "output_type": "execute_result"
    }
   ],
   "source": [
    "my_subject"
   ]
  },
  {
   "cell_type": "code",
   "execution_count": 42,
   "metadata": {},
   "outputs": [
    {
     "data": {
      "text/plain": [
       "[<h2 data-vr-contentbox=\"Link /schweiz/news/story/So-lief-das-Einbuergerungsgespraech-ab-18930164\"><a href=\"/schweiz/news/story/So-lief-das-Einbuergerungsgespraech-ab-18930164\">So lief das Einbürgerungsgespräch ab</a></h2>,\n",
       " <h2 data-vr-contentbox=\"Link /ausland/news/story/Trump-Sprecher-schmeisst-den-Bettel-hin-27676801\"><a href=\"/ausland/news/story/Trump-Sprecher-schmeisst-den-Bettel-hin-27676801\">Trump-Sprecher schmeisst den Bettel hin</a></h2>,\n",
       " <h2 data-vr-contentbox=\"Link /schweiz/ostschweiz/story/Radpanzer-kollidiert-mit-Auto-15288324\"><a href=\"/schweiz/ostschweiz/story/Radpanzer-kollidiert-mit-Auto-15288324\">Radpanzer kollidiert mit Auto</a></h2>,\n",
       " <h2 data-vr-contentbox=\"Link http://www.20min.ch/schweiz/energychallenge/promotion/story/22051972\"><a href=\"http://www.20min.ch/schweiz/energychallenge/promotion/story/22051972\" target=\"_blank\">Seien Sie als VIP bei einem Super-League-Spiel dabei</a></h2>,\n",
       " <h2 data-vr-contentbox=\"Link /panorama/news/story/160-Nachbeben-in-der--gaeis--ndash--Schweizerin-verletzt-21369804\"><a href=\"/panorama/news/story/160-Nachbeben-in-der--gaeis--ndash--Schweizerin-verletzt-21369804\">160 Nachbeben in der Ägäis – Schweizerin verletzt</a></h2>,\n",
       " <h2 data-vr-contentbox=\"Link /ausland/news/story/US-Buerger-duerfen-nicht-mehr-nach-Nordkorea-10991294\"><a href=\"/ausland/news/story/US-Buerger-duerfen-nicht-mehr-nach-Nordkorea-10991294\">US-Bürger dürfen nicht mehr nach Nordkorea</a></h2>,\n",
       " <h2 data-vr-contentbox=\"Link /schweiz/ostschweiz/story/Spaziergaengerin-findet-verkohlte-Leiche-in-Wald-26478498\"><a href=\"/schweiz/ostschweiz/story/Spaziergaengerin-findet-verkohlte-Leiche-in-Wald-26478498\">Spaziergängerin findet verkohlte Leiche in Wald</a></h2>,\n",
       " <h2 data-vr-contentbox=\"Link /finance/news/story/Gab-es-Geheimtreffen-zwischen-Autobauern--17265895\"><a href=\"/finance/news/story/Gab-es-Geheimtreffen-zwischen-Autobauern--17265895\">Gab es Geheimtreffen zwischen Autobauern?</a></h2>,\n",
       " <h2 data-vr-contentbox=\"Link /people/international/story/William-und-Kate-reisen-im-Zug-22282864\"><a href=\"/people/international/story/William-und-Kate-reisen-im-Zug-22282864\">William und Kate reisen im Zug</a></h2>,\n",
       " <h2 data-vr-contentbox=\"Link /schweiz/zuerich/story/Polizei-Razzia-bei-Zuercher-Putzfirma-26310833\"><a href=\"/schweiz/zuerich/story/Polizei-Razzia-bei-Zuercher-Putzfirma-26310833\">Polizei-Razzia bei Zürcher Putzfirma</a></h2>]"
      ]
     },
     "execution_count": 42,
     "metadata": {},
     "output_type": "execute_result"
    }
   ],
   "source": [
    "from bs4 import BeautifulSoup\n",
    "import requests\n",
    "import time\n",
    "import csv\n",
    "\n",
    "#scraping Swiss news website 20min.ch\n",
    "response = requests.get(\"https://www.20min.ch\")\n",
    "doc = BeautifulSoup(response.text,\"html.parser\")\n",
    "\n",
    "#first ten headlines\n",
    "headlines = doc.find_all(\"h2\")[:10]\n",
    "headlines\n",
    "\n"
   ]
  },
  {
   "cell_type": "code",
   "execution_count": 45,
   "metadata": {},
   "outputs": [],
   "source": [
    "import requests\n",
    "import time\n",
    "from pathlib import Path\n",
    "import os\n",
    "\n",
    "def send_message(this_message, this_subject, this_API, filename):\n",
    "    return requests.post(\n",
    "        \"https://api.mailgun.net/v3/sandbox1b96f86f57274a0b85260981f5da32f6.mailgun.org/messages\",\n",
    "        auth=(\"api\", this_API),\n",
    "        files=[(\"attachment\", (filename, open(filename,\"rb\").read()))],\n",
    "        data={\"from\": \"Alexander Trentin <postmaster@sandbox1b96f86f57274a0b85260981f5da32f6.mailgun.org>\",\n",
    "              \"to\": \"Alexander Trentin <alexander.trentin@gmail.com>\",\n",
    "               \"subject\": this_subject,\n",
    "              \"text\": this_message})\n",
    "\n",
    "my_API_mailgun = \"key-d748844fcc73edb1aa4c9584d3a1c4ac\"\n",
    "my_filename = \"headlines.csv\"\n",
    "my_subject = this_time + \" headlines overview. \" + this_date\n",
    "my_message = \"Please find attached a file with the headlines of today.\"\n",
    "               \n",
    "my_file = Path(my_filename)\n",
    "               \n",
    "if my_file.is_file():\n",
    "    send_message(my_message, my_subject, my_API_mailgun, my_filename)\n",
    "    os.remove(my_filename)"
   ]
  },
  {
   "cell_type": "code",
   "execution_count": null,
   "metadata": {
    "collapsed": true
   },
   "outputs": [],
   "source": []
  }
 ],
 "metadata": {
  "kernelspec": {
   "display_name": "Python 3",
   "language": "python",
   "name": "python3"
  },
  "language_info": {
   "codemirror_mode": {
    "name": "ipython",
    "version": 3
   },
   "file_extension": ".py",
   "mimetype": "text/x-python",
   "name": "python",
   "nbconvert_exporter": "python",
   "pygments_lexer": "ipython3",
   "version": "3.6.1"
  }
 },
 "nbformat": 4,
 "nbformat_minor": 2
}
