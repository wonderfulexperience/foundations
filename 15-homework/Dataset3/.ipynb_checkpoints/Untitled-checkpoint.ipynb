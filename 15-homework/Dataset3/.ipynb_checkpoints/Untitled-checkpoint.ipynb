{
 "cells": [
  {
   "cell_type": "code",
   "execution_count": 1,
   "metadata": {
    "collapsed": true
   },
   "outputs": [],
   "source": [
    "import pdfquery"
   ]
  },
  {
   "cell_type": "code",
   "execution_count": 2,
   "metadata": {},
   "outputs": [
    {
     "data": {
      "text/plain": [
       "{'Unnamed0': '', 'Unnamed1': '', 'Unnamed2': ''}"
      ]
     },
     "execution_count": 2,
     "metadata": {},
     "output_type": "execute_result"
    }
   ],
   "source": [
    "pdf = pdfquery.PDFQuery('Jobs.pdf')\n",
    "\n",
    "pdf.extract([\n",
    "\t('with_formatter', 'text'),\n",
    "\t('Unnamed0', 'LTPage[pageid=\\'9\\'] LTTextLineHorizontal:overlaps_bbox(\"32,429,283,476\")'),\n",
    "\t('Unnamed1', 'LTPage[pageid=\\'9\\'] LTTextLineHorizontal:overlaps_bbox(\"25,493,285,538\")'),\n",
    "\t('Unnamed2', 'LTPage[pageid=\\'9\\'] LTTextLineHorizontal:overlaps_bbox(\"23,555,283,601\")')\n",
    "])"
   ]
  },
  {
   "cell_type": "code",
   "execution_count": null,
   "metadata": {
    "collapsed": true
   },
   "outputs": [],
   "source": []
  }
 ],
 "metadata": {
  "kernelspec": {
   "display_name": "Python 3",
   "language": "python",
   "name": "python3"
  },
  "language_info": {
   "codemirror_mode": {
    "name": "ipython",
    "version": 3
   },
   "file_extension": ".py",
   "mimetype": "text/x-python",
   "name": "python",
   "nbconvert_exporter": "python",
   "pygments_lexer": "ipython3",
   "version": "3.6.1"
  }
 },
 "nbformat": 4,
 "nbformat_minor": 2
}
