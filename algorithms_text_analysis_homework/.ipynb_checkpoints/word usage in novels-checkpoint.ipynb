{
 "cells": [
  {
   "cell_type": "code",
   "execution_count": 4,
   "metadata": {
    "collapsed": true
   },
   "outputs": [],
   "source": [
    "# Idea: I divide each romance novel in five parts, comparing word usage"
   ]
  },
  {
   "cell_type": "code",
   "execution_count": 161,
   "metadata": {
    "collapsed": true
   },
   "outputs": [],
   "source": [
    "import pandas as pd\n",
    "%matplotlib inline\n",
    "import glob\n",
    "import matplotlib.pyplot as plt\n",
    "import numpy as np"
   ]
  },
  {
   "cell_type": "code",
   "execution_count": 8,
   "metadata": {},
   "outputs": [],
   "source": [
    "# get the filenames\n",
    "filenames = glob.glob(\"/Users/alex/Desktop/Columbia/Algorithms/06-text-analysis-2/romance/*.txt\")\n",
    "contents = [open(filename).read() for filename in filenames]\n",
    "romance_df = pd.DataFrame({\n",
    "    'content': contents,\n",
    "    'filename': filenames\n",
    "})"
   ]
  },
  {
   "cell_type": "code",
   "execution_count": 222,
   "metadata": {},
   "outputs": [],
   "source": [
    "# divide each content in five parts\n",
    "romance_df['content_part1'] = romance_df.content.\\\n",
    "            apply(lambda content: content[0:(int(len(content)/6))])\n",
    "romance_df['content_part2'] = romance_df.content.\\\n",
    "            apply(lambda content: content[(int(len(content)/6+1)):(int(len(content)/6*2))])\n",
    "romance_df['content_part3'] = romance_df.content.\\\n",
    "            apply(lambda content: content[(int(len(content)/6*2+1)):(int(len(content)/6*3))])\n",
    "romance_df['content_part4'] = romance_df.content.\\\n",
    "            apply(lambda content: content[(int(len(content)/6*3+1)):(int(len(content)/6*4))])\n",
    "romance_df['content_part5'] = romance_df.content.\\\n",
    "            apply(lambda content: content[(int(len(content)/6*4+1)):(int(len(content)/6*5))])\n",
    "romance_df['content_part6'] = romance_df.content.\\\n",
    "            apply(lambda content: content[(int(len(content)/6*5+1)):])"
   ]
  },
  {
   "cell_type": "code",
   "execution_count": 215,
   "metadata": {},
   "outputs": [],
   "source": [
    "# import emotional lexicon\n",
    "filepath = \"/Users/alex/Desktop/Columbia/Algorithms/06-text-analysis-2/NRC-Emotion-Lexicon-v0.92/NRC-emotion-lexicon-wordlevel-alphabetized-v0.92.txt\"\n",
    "emolex_df = pd.read_csv(filepath,  names=[\"word\", \"emotion\", \"association\"], skiprows=45, sep='\\t')\n",
    "emolex_df = emolex_df.pivot(index='word', columns='emotion', values='association').reset_index()"
   ]
  },
  {
   "cell_type": "code",
   "execution_count": 33,
   "metadata": {},
   "outputs": [],
   "source": [
    "feeling_lexicon = {\n",
    "    'anger': emolex_df[emolex_df.anger == 1].word,\n",
    "    'negative': emolex_df[emolex_df.negative == 1].word,\n",
    "    'positive': emolex_df[emolex_df.positive == 1].word,\n",
    "    'anticipation': emolex_df[emolex_df.anticipation == 1].word,\n",
    "    'joy': emolex_df[emolex_df.joy == 1].word,\n",
    "    'sadness': emolex_df[emolex_df.sadness == 1].word,\n",
    "    'surprise': emolex_df[emolex_df.surprise == 1].word,\n",
    "    'trust': emolex_df[emolex_df.surprise == 1].word}"
   ]
  },
  {
   "cell_type": "code",
   "execution_count": 223,
   "metadata": {},
   "outputs": [],
   "source": [
    "from sklearn.feature_extraction.text import TfidfVectorizer\n",
    "\n",
    "list_wordcount = []\n",
    "\n",
    "content_list = [romance_df.content_part1, romance_df.content_part2,\\\n",
    "                romance_df.content_part3, romance_df.content_part4,\\\n",
    "                romance_df.content_part5, romance_df.content_part6]\n",
    "\n",
    "for this_content in content_list:\n",
    "    vec = TfidfVectorizer(vocabulary = emolex_df.word,\n",
    "                     stop_words='english',\n",
    "                     use_idf=False,\n",
    "                     norm='l1')\n",
    "    matrix = vec.fit_transform(this_content)\n",
    "    vocab = vec.get_feature_names()\n",
    "    wordcount_df = pd.DataFrame(matrix.toarray(), columns=vocab)\n",
    "    list_wordcount.append(wordcount_df)"
   ]
  },
  {
   "cell_type": "code",
   "execution_count": 224,
   "metadata": {},
   "outputs": [],
   "source": [
    "feelings_by_part = {}\n",
    "\n",
    "part = 0\n",
    "\n",
    "for wordcount in list_wordcount:\n",
    "    part += 1\n",
    "    this_feeling = {}\n",
    "    for key, value in feeling_lexicon.items():\n",
    "        this_feeling[key] = wordcount[list(value)].sum(axis=1).to_dict()\n",
    "    feelings_by_part[\"part \"+str(part)] = this_feeling"
   ]
  },
  {
   "cell_type": "code",
   "execution_count": 225,
   "metadata": {},
   "outputs": [],
   "source": [
    "newdict = {(k1, k2, k3):v3 for k1,v1 in feelings_by_part.items() \\\n",
    "                       for k2,v2 in feelings_by_part[k1].items() \\\n",
    "                       for k3,v3 in feelings_by_part[k1][k2].items()}\n",
    "df_feelings = pd.DataFrame([newdict[i] for i in sorted(newdict)],\n",
    "                  index=pd.MultiIndex.from_tuples([i for i in sorted(newdict.keys())]))\n",
    "df_feelings = df_feelings.reset_index()"
   ]
  },
  {
   "cell_type": "code",
   "execution_count": 226,
   "metadata": {},
   "outputs": [],
   "source": [
    "df_feelings.rename(columns={'level_0':'part', 'level_1':'emotion', 'level_2':'novel', 0:'score'}, inplace=True)"
   ]
  },
  {
   "cell_type": "code",
   "execution_count": 227,
   "metadata": {},
   "outputs": [],
   "source": [
    "df_feelings = df_feelings.reset_index()"
   ]
  },
  {
   "cell_type": "markdown",
   "metadata": {},
   "source": [
    "## In which part show romance novels show a lot of anticipation?"
   ]
  },
  {
   "cell_type": "code",
   "execution_count": 251,
   "metadata": {},
   "outputs": [
    {
     "data": {
      "image/png": "[encoded data removed]",
      "text/plain": [
       "<matplotlib.figure.Figure at 0x119e75e80>"
      ]
     },
     "metadata": {},
     "output_type": "display_data"
    }
   ],
   "source": [
    "anticipation = df_feelings[df_feelings.emotion == 'anticipation']\n",
    "\n",
    "plt.figure(figsize=(5,7))\n",
    "\n",
    "x = anticipation.part.str[5:6].astype(int)\n",
    "y = anticipation.score\n",
    "plt.scatter(x,y)\n",
    "\n",
    "x = anticipation.groupby('part').part.min().str[5:6].astype(int)\n",
    "y = anticipation.groupby('part').score.median()\n",
    "plt.scatter(x,y)\n",
    "\n",
    "plt.plot(x,y)\n",
    "\n",
    "plt.ylim(0.07,0.139)\n",
    "plt.xticks(np.arange(1, 7, 1.0))\n",
    "plt.show()"
   ]
  },
  {
   "cell_type": "markdown",
   "metadata": {},
   "source": [
    "## When is there a lot of surprise?"
   ]
  },
  {
   "cell_type": "code",
   "execution_count": 252,
   "metadata": {},
   "outputs": [
    {
     "data": {
      "image/png": "[encoded data removed]",
      "text/plain": [
       "<matplotlib.figure.Figure at 0x118e1fe48>"
      ]
     },
     "metadata": {},
     "output_type": "display_data"
    }
   ],
   "source": [
    "this_feeling = df_feelings[df_feelings.emotion == 'surprise']\n",
    "\n",
    "plt.figure(figsize=(5,7))\n",
    "\n",
    "x = this_feeling.part.str[5:6].astype(int)\n",
    "y = this_feeling.score\n",
    "plt.scatter(x,y)\n",
    "\n",
    "x = this_feeling.groupby('part').part.min().str[5:6].astype(int)\n",
    "y = this_feeling.groupby('part').score.median()\n",
    "plt.scatter(x,y)\n",
    "\n",
    "plt.plot(x,y)\n",
    "\n",
    "plt.ylim(0.035,0.085)\n",
    "plt.xticks(np.arange(1, 7, 1.0))\n",
    "plt.show()"
   ]
  },
  {
   "cell_type": "markdown",
   "metadata": {},
   "source": [
    "Result: romance novels show in the middle the most \"surprise\" moments. The least surprise is shown in the last part. After the middle part the \"anticipation\" decreases, but rises again to the very end."
   ]
  },
  {
   "cell_type": "markdown",
   "metadata": {},
   "source": [
    "## When are positive feelings expressed?"
   ]
  },
  {
   "cell_type": "code",
   "execution_count": 259,
   "metadata": {},
   "outputs": [
    {
     "data": {
      "image/png": "[encoded data removed]",
      "text/plain": [
       "<matplotlib.figure.Figure at 0x118e27208>"
      ]
     },
     "metadata": {},
     "output_type": "display_data"
    }
   ],
   "source": [
    "this_feeling = df_feelings[df_feelings.emotion == 'positive']\n",
    "\n",
    "plt.figure(figsize=(5,7))\n",
    "\n",
    "x = this_feeling.part.str[5:6].astype(int)\n",
    "y = this_feeling.score\n",
    "plt.scatter(x,y)\n",
    "\n",
    "x = this_feeling.groupby('part').part.min().str[5:6].astype(int)\n",
    "y = this_feeling.groupby('part').score.median()\n",
    "plt.scatter(x,y)\n",
    "\n",
    "plt.plot(x,y)\n",
    "\n",
    "plt.ylim(0.14,0.315)\n",
    "plt.xticks(np.arange(1, 7, 1.0))\n",
    "plt.show()"
   ]
  },
  {
   "cell_type": "markdown",
   "metadata": {},
   "source": [
    "## When do negative feelings show?"
   ]
  },
  {
   "cell_type": "code",
   "execution_count": 262,
   "metadata": {},
   "outputs": [
    {
     "data": {
      "image/png": "[encoded data removed]",
      "text/plain": [
       "<matplotlib.figure.Figure at 0x1142a7080>"
      ]
     },
     "metadata": {},
     "output_type": "display_data"
    }
   ],
   "source": [
    "this_feeling = df_feelings[df_feelings.emotion == 'negative']\n",
    "\n",
    "plt.figure(figsize=(5,7))\n",
    "\n",
    "x = this_feeling.part.str[5:6].astype(int)\n",
    "y = this_feeling.score\n",
    "plt.scatter(x,y)\n",
    "\n",
    "x = this_feeling.groupby('part').part.min().str[5:6].astype(int)\n",
    "y = this_feeling.groupby('part').score.median()\n",
    "plt.scatter(x,y)\n",
    "\n",
    "plt.plot(x,y)\n",
    "\n",
    "plt.ylim(0.12,0.21)\n",
    "plt.xticks(np.arange(1, 7, 1.0))\n",
    "plt.show()"
   ]
  },
  {
   "cell_type": "markdown",
   "metadata": {},
   "source": [
    "Positive moments seem to be most frequent in the third of six parts. While negative words have the highest frequency in the fourth part. Overall, positive words are more frequent than negative words."
   ]
  },
  {
   "cell_type": "code",
   "execution_count": null,
   "metadata": {
    "collapsed": true
   },
   "outputs": [],
   "source": []
  }
 ],
 "metadata": {
  "kernelspec": {
   "display_name": "Python 3",
   "language": "python",
   "name": "python3"
  },
  "language_info": {
   "codemirror_mode": {
    "name": "ipython",
    "version": 3
   },
   "file_extension": ".py",
   "mimetype": "text/x-python",
   "name": "python",
   "nbconvert_exporter": "python",
   "pygments_lexer": "ipython3",
   "version": "3.6.1"
  }
 },
 "nbformat": 4,
 "nbformat_minor": 2
}
