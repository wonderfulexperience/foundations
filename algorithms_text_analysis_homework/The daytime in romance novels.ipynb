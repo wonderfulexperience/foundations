{
 "cells": [
  {
   "cell_type": "markdown",
   "metadata": {},
   "source": [
    "# Idea: how does the described daytime changes during romance novels?"
   ]
  },
  {
   "cell_type": "code",
   "execution_count": 2,
   "metadata": {
    "collapsed": true
   },
   "outputs": [],
   "source": [
    "night = ['bedroom','moon','stars','dinner','supper','piyjama','pajama','sleeps','sleeping',\n",
    "             'piyjamas','pajamas','moonlight','night','midnight','evening', 'went to bed',\n",
    "        'go to bed', 'dusk', 'sunset', 'twilight', 'dark']\n",
    "day = ['sun','sunshine','lunch','noon','afternoon','']\n",
    "morning = ['morning','breakfast','woke up','get dressed', 'go to work', 'went to work',\n",
    "          'on the way to work', 'arrived at work', 'alarm', 'sunrise', 'dawn', 'got up'\n",
    "          ,'wake up']"
   ]
  },
  {
   "cell_type": "code",
   "execution_count": 3,
   "metadata": {
    "collapsed": true
   },
   "outputs": [],
   "source": [
    "import pandas as pd\n",
    "%matplotlib inline\n",
    "import glob\n",
    "import matplotlib.pyplot as plt\n",
    "import numpy as np"
   ]
  },
  {
   "cell_type": "code",
   "execution_count": 4,
   "metadata": {
    "collapsed": true
   },
   "outputs": [],
   "source": [
    "# get the filenames\n",
    "filenames = glob.glob(\"/Users/alex/Desktop/Columbia/Algorithms/06-text-analysis-2/romance/*.txt\")\n",
    "contents = [open(filename).read() for filename in filenames]\n",
    "romance_df = pd.DataFrame({\n",
    "    'content': contents,\n",
    "    'filename': filenames\n",
    "})"
   ]
  },
  {
   "cell_type": "code",
   "execution_count": 5,
   "metadata": {
    "collapsed": true
   },
   "outputs": [],
   "source": [
    "# divide each content in six parts\n",
    "romance_df['content_part1'] = romance_df.content.\\\n",
    "            apply(lambda content: content[0:(int(len(content)/6))])\n",
    "romance_df['content_part2'] = romance_df.content.\\\n",
    "            apply(lambda content: content[(int(len(content)/6+1)):(int(len(content)/6*2))])\n",
    "romance_df['content_part3'] = romance_df.content.\\\n",
    "            apply(lambda content: content[(int(len(content)/6*2+1)):(int(len(content)/6*3))])\n",
    "romance_df['content_part4'] = romance_df.content.\\\n",
    "            apply(lambda content: content[(int(len(content)/6*3+1)):(int(len(content)/6*4))])\n",
    "romance_df['content_part5'] = romance_df.content.\\\n",
    "            apply(lambda content: content[(int(len(content)/6*4+1)):(int(len(content)/6*5))])\n",
    "romance_df['content_part6'] = romance_df.content.\\\n",
    "            apply(lambda content: content[(int(len(content)/6*5+1)):])"
   ]
  },
  {
   "cell_type": "code",
   "execution_count": 7,
   "metadata": {},
   "outputs": [],
   "source": [
    "from sklearn.feature_extraction.text import TfidfVectorizer\n",
    "\n",
    "vocab = night+day+morning\n",
    "\n",
    "list_wordcount = []\n",
    "\n",
    "content_list = [romance_df.content_part1, romance_df.content_part2,\\\n",
    "                romance_df.content_part3, romance_df.content_part4,\\\n",
    "                romance_df.content_part5, romance_df.content_part6]\n",
    "\n",
    "for this_content in content_list:\n",
    "    vec = TfidfVectorizer(vocabulary = vocab,\n",
    "                          ngram_range=(1, 3),\n",
    "                     use_idf=False,\n",
    "                     norm='l1')\n",
    "    matrix = vec.fit_transform(this_content)\n",
    "    vocab = vec.get_feature_names()\n",
    "    wordcount_df = pd.DataFrame(matrix.toarray(), columns=vocab)\n",
    "    list_wordcount.append(wordcount_df)"
   ]
  },
  {
   "cell_type": "code",
   "execution_count": 8,
   "metadata": {
    "collapsed": true
   },
   "outputs": [],
   "source": [
    "daytime_by_part = {}\n",
    "\n",
    "part = 0\n",
    "\n",
    "for wordcount in list_wordcount:\n",
    "    part += 1\n",
    "    this_daytime = {}\n",
    "    this_daytime[\"night\"] = wordcount[night].sum(axis=1).to_dict()\n",
    "    this_daytime[\"day\"] = wordcount[day].sum(axis=1).to_dict()\n",
    "    this_daytime[\"morning\"] = wordcount[morning].sum(axis=1).to_dict()\n",
    "    daytime_by_part[\"part \"+str(part)] = this_daytime"
   ]
  },
  {
   "cell_type": "code",
   "execution_count": 9,
   "metadata": {
    "collapsed": true
   },
   "outputs": [],
   "source": [
    "newdict = {(k1, k2, k3):v3 for k1,v1 in daytime_by_part.items() \\\n",
    "                       for k2,v2 in daytime_by_part[k1].items() \\\n",
    "                       for k3,v3 in daytime_by_part[k1][k2].items()}\n",
    "df_time = pd.DataFrame([newdict[i] for i in sorted(newdict)],\n",
    "                  index=pd.MultiIndex.from_tuples([i for i in sorted(newdict.keys())]))\n",
    "df_time = df_time.reset_index()"
   ]
  },
  {
   "cell_type": "code",
   "execution_count": 10,
   "metadata": {
    "collapsed": true
   },
   "outputs": [],
   "source": [
    "df_time.rename(columns={'level_0':'part', \\\n",
    "                        'level_1':'daytime', 'level_2':'novel', 0:'score'}, inplace=True)"
   ]
  },
  {
   "cell_type": "code",
   "execution_count": 11,
   "metadata": {
    "collapsed": true
   },
   "outputs": [],
   "source": [
    "morning = df_time[df_time.daytime == 'morning']\n",
    "day = df_time[df_time.daytime == 'day']\n",
    "night = df_time[df_time.daytime == 'night']"
   ]
  },
  {
   "cell_type": "code",
   "execution_count": 12,
   "metadata": {},
   "outputs": [
    {
     "data": {
      "text/plain": [
       "<matplotlib.legend.Legend at 0x10dc86cc0>"
      ]
     },
     "execution_count": 12,
     "metadata": {},
     "output_type": "execute_result"
    },
    {
     "data": {
      "image/png": "[encoded data removed]",
      "text/plain": [
       "<matplotlib.figure.Figure at 0x10da1e240>"
      ]
     },
     "metadata": {},
     "output_type": "display_data"
    }
   ],
   "source": [
    "x = morning.groupby('part').part.min().str[5:6].astype(int)\n",
    "y = morning.groupby('part').score.median()\n",
    "plt.plot(x,y,label='morning')\n",
    "\n",
    "x = day.groupby('part').part.min().str[5:6].astype(int)\n",
    "y = day.groupby('part').score.median()\n",
    "plt.plot(x,y,label='day')\n",
    "\n",
    "x = night.groupby('part').part.min().str[5:6].astype(int)\n",
    "y = night.groupby('part').score.median()\n",
    "plt.plot(x,y,label='night')\n",
    "\n",
    "plt.legend()"
   ]
  },
  {
   "cell_type": "code",
   "execution_count": 13,
   "metadata": {
    "collapsed": true
   },
   "outputs": [],
   "source": [
    "#scenes which play in the morning seem to be more frequent in the beginning of a book,\n",
    "#while scenes playing at night seem to be more frequent at the end"
   ]
  },
  {
   "cell_type": "code",
   "execution_count": null,
   "metadata": {
    "collapsed": true
   },
   "outputs": [],
   "source": []
  }
 ],
 "metadata": {
  "kernelspec": {
   "display_name": "Python 3",
   "language": "python",
   "name": "python3"
  },
  "language_info": {
   "codemirror_mode": {
    "name": "ipython",
    "version": 3
   },
   "file_extension": ".py",
   "mimetype": "text/x-python",
   "name": "python",
   "nbconvert_exporter": "python",
   "pygments_lexer": "ipython3",
   "version": "3.6.1"
  }
 },
 "nbformat": 4,
 "nbformat_minor": 2
}
