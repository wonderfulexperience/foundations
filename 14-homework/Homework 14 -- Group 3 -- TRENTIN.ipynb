{
 "cells": [
  {
   "cell_type": "markdown",
   "metadata": {},
   "source": [
    "Group 3\n",
    "1. Do states with coal power plants have dirtier air?\n",
    "\n",
    "2. Which power plants are within 75 miles of New York City?\n",
    "\n",
    "3. Map all of the power plants in New York, New Jersey, Pennsylvania and Connecticut. Have a nice bottom layer of those 4 states.\n",
    "\n",
    "4. What is the most popular power source by state?\n",
    "\n",
    "5. Get the average (or highest/worst) PM2.5 within XXX miles of each power plant (you pick the distance). Is coal dirtier than other kinds of plants?\n",
    "\n",
    "6. Make a map of the power plants within 150 miles of New York City. I want it centered on New York City, zoomed in a good amount.\n",
    "\n",
    "7. Are places with below-average air quality closer to power plants?"
   ]
  },
  {
   "cell_type": "code",
   "execution_count": 1,
   "metadata": {
    "collapsed": true
   },
   "outputs": [],
   "source": [
    "#0. importing and opening"
   ]
  },
  {
   "cell_type": "code",
   "execution_count": 2,
   "metadata": {
    "collapsed": true
   },
   "outputs": [],
   "source": [
    "import pandas as pd\n",
    "import geopandas as gpd\n",
    "from shapely.geometry import Point\n",
    "from shapely.geometry import Polygon\n",
    "import matplotlib.pyplot as plt\n",
    "%matplotlib inline"
   ]
  },
  {
   "cell_type": "code",
   "execution_count": 3,
   "metadata": {
    "collapsed": true
   },
   "outputs": [],
   "source": [
    "states = gpd.read_file('cb_2016_us_state_500k/cb_2016_us_state_500k.shp')"
   ]
  },
  {
   "cell_type": "code",
   "execution_count": 4,
   "metadata": {
    "collapsed": true
   },
   "outputs": [],
   "source": [
    "df = pd.read_csv(\"pm25_annual_fixed.csv\")\n",
    "points = df.apply(lambda row : Point(row.Longitude, row.Latitude), axis=1)\n",
    "pm25 = gpd.GeoDataFrame(df, geometry=points)"
   ]
  },
  {
   "cell_type": "code",
   "execution_count": 5,
   "metadata": {
    "collapsed": true
   },
   "outputs": [],
   "source": [
    "df = pd.read_csv(\"powerplants.csv\")\n",
    "points = df.apply(lambda row : Point(row.Longitude, row.Latitude), axis=1)\n",
    "powerplants = gpd.GeoDataFrame(df, geometry=points)"
   ]
  },
  {
   "cell_type": "code",
   "execution_count": 6,
   "metadata": {
    "collapsed": true
   },
   "outputs": [],
   "source": [
    "state_CO2 = pd.read_csv(\"Total Carbon Dioxide Emissions-StateRankings.csv\")"
   ]
  },
  {
   "cell_type": "markdown",
   "metadata": {},
   "source": [
    "Do states with coal power plants have dirtier air?"
   ]
  },
  {
   "cell_type": "code",
   "execution_count": 7,
   "metadata": {
    "collapsed": true
   },
   "outputs": [],
   "source": [
    "# only coal power plants\n",
    "coal_plants = powerplants[powerplants.PrimSource=='coal']"
   ]
  },
  {
   "cell_type": "code",
   "execution_count": 8,
   "metadata": {
    "collapsed": true
   },
   "outputs": [],
   "source": [
    "# counting coal plants by state\n",
    "states['coal_plant_count'] = states.apply(lambda row: coal_plants.within(row.geometry).sum(), axis=1)"
   ]
  },
  {
   "cell_type": "code",
   "execution_count": 9,
   "metadata": {
    "collapsed": true
   },
   "outputs": [],
   "source": [
    "# adding to each state average PM2.5 values\n",
    "pm25_mean = pd.DataFrame(pm25.groupby('State Name')[['State Code','State Name','Arithmetic Mean']].mean().reset_index())\n",
    "states_merged = pd.merge(states, pm25_mean,left_on='NAME',right_on='State Name', how='left')"
   ]
  },
  {
   "cell_type": "code",
   "execution_count": 10,
   "metadata": {
    "collapsed": true
   },
   "outputs": [],
   "source": [
    "states_merged['pm25_mean'] = states_merged['Arithmetic Mean']"
   ]
  },
  {
   "cell_type": "code",
   "execution_count": 11,
   "metadata": {
    "collapsed": true
   },
   "outputs": [],
   "source": [
    "states_pm25 = pd.DataFrame(states_merged[['State Name','pm25_mean','coal_plant_count']].dropna())"
   ]
  },
  {
   "cell_type": "code",
   "execution_count": 12,
   "metadata": {},
   "outputs": [
    {
     "data": {
      "text/plain": [
       "<matplotlib.axes._subplots.AxesSubplot at 0x108e82b70>"
      ]
     },
     "execution_count": 12,
     "metadata": {},
     "output_type": "execute_result"
    },
    {
     "data": {
      "image/png": "[encoded data removed]",
      "text/plain": [
       "<matplotlib.figure.Figure at 0x108751f98>"
      ]
     },
     "metadata": {},
     "output_type": "display_data"
    }
   ],
   "source": [
    "states_pm25 = states_pm25.reset_index()\n",
    "states_pm25.plot(kind='scatter',x='coal_plant_count', y='pm25_mean')"
   ]
  },
  {
   "cell_type": "markdown",
   "metadata": {},
   "source": [
    "--> Answer (1): The scatter plot doesn't show a strong realtionship between pollution (pm25) and coal plants"
   ]
  },
  {
   "cell_type": "markdown",
   "metadata": {},
   "source": [
    "Which power plants are within 75 miles of New York City?"
   ]
  },
  {
   "cell_type": "code",
   "execution_count": 13,
   "metadata": {
    "collapsed": true
   },
   "outputs": [],
   "source": [
    "nyc_point = Point(-73.935242,40.730610)"
   ]
  },
  {
   "cell_type": "code",
   "execution_count": 14,
   "metadata": {
    "collapsed": true
   },
   "outputs": [],
   "source": [
    "nyc_df = pd.DataFrame(columns=['Name','Point'])\n",
    "nyc_df = nyc_df.append({'Name':'New York City','Point':nyc_point},ignore_index=True)\n",
    "nyc_geo = gpd.GeoDataFrame(nyc_df, geometry='Point')"
   ]
  },
  {
   "cell_type": "code",
   "execution_count": 15,
   "metadata": {
    "collapsed": true
   },
   "outputs": [],
   "source": [
    "# continental USA\n",
    "bounds = [\n",
    "            [\n",
    "              -127.61718749999999,\n",
    "              24.5271348225978\n",
    "            ],\n",
    "            [\n",
    "              -65.390625,\n",
    "              24.5271348225978\n",
    "            ],\n",
    "            [\n",
    "              -65.390625,\n",
    "              50.28933925329178\n",
    "            ],\n",
    "            [\n",
    "              -127.61718749999999,\n",
    "              50.28933925329178\n",
    "            ],\n",
    "            [\n",
    "              -127.61718749999999,\n",
    "              24.5271348225978\n",
    "            ]\n",
    "          ]\n",
    "\n",
    "continentalUS = Polygon(bounds)"
   ]
  },
  {
   "cell_type": "code",
   "execution_count": 16,
   "metadata": {
    "collapsed": true
   },
   "outputs": [],
   "source": [
    "states = states[states.within(continentalUS)]"
   ]
  },
  {
   "cell_type": "code",
   "execution_count": 17,
   "metadata": {},
   "outputs": [
    {
     "data": {
      "text/plain": [
       "(-2586829.4388886895,\n",
       " 2488915.8729062313,\n",
       " 167837.18358806512,\n",
       " 3315650.3366556843)"
      ]
     },
     "execution_count": 17,
     "metadata": {},
     "output_type": "execute_result"
    },
    {
     "data": {
      "image/png": "[encoded data removed]",
      "text/plain": [
       "<matplotlib.figure.Figure at 0x10948cf98>"
      ]
     },
     "metadata": {},
     "output_type": "display_data"
    }
   ],
   "source": [
    "# Miles in km: 75*1.6 = 120\n",
    "states_proj = states.to_crs(epsg=5071)\n",
    "nyc_geo.crs = {'init':'epsg:4326'}\n",
    "nyc_geo_proj = nyc_geo.to_crs(epsg=5071)\n",
    "ax = states_proj.plot(linewidth= 0.25, color='lightgrey', edgecolor = 'white')\n",
    "nyc_geo_proj.buffer(120000).plot(color='red',ax=ax)\n",
    "ax.axis('off')"
   ]
  },
  {
   "cell_type": "code",
   "execution_count": 18,
   "metadata": {
    "collapsed": true
   },
   "outputs": [],
   "source": [
    "nycgeo_buffer = nyc_geo_proj.buffer(120000)"
   ]
  },
  {
   "cell_type": "code",
   "execution_count": 19,
   "metadata": {
    "collapsed": true
   },
   "outputs": [],
   "source": [
    "nycgeo_buffer = nycgeo_buffer.to_crs(epsg=4326)"
   ]
  },
  {
   "cell_type": "code",
   "execution_count": 20,
   "metadata": {},
   "outputs": [
    {
     "data": {
      "text/plain": [
       "341                           Rocky River (CT)\n",
       "342                                   Branford\n",
       "343                               Bulls Bridge\n",
       "344                                    Cos Cob\n",
       "345                              Devon Station\n",
       "350                                    Shepaug\n",
       "351                                  Stevenson\n",
       "362                         Bridgeport Station\n",
       "1147                              Oyster Creek\n",
       "1148                                Sayreville\n",
       "1149                                   Gilbert\n",
       "1150                 Bergen Generating Station\n",
       "1151        PSEG Burlington Generating Station\n",
       "1152             PSEG Essex Generating Station\n",
       "1153            PSEG Hudson Generating Station\n",
       "1154            PSEG Kearny Generating Station\n",
       "1155            PSEG Linden Generating Station\n",
       "1156            PSEG Mercer Generating Station\n",
       "1158           PSEG Sewaren Generating Station\n",
       "1169             Danskammer Generating Station\n",
       "1175            Arthur Kill Generating Station\n",
       "1176                                East River\n",
       "1177           Gowanus Gas Turbines Generating\n",
       "1178                             Hudson Avenue\n",
       "1179                            Indian Point 2\n",
       "1180           Narrows Gas Turbines Generating\n",
       "1181                                Ravenswood\n",
       "1182                               59th Street\n",
       "1183                               74th Street\n",
       "1184                               E F Barrett\n",
       "                         ...                  \n",
       "6991                                Rock Solid\n",
       "7016                  Plainfield One Solar LLC\n",
       "7017                    24 Applegate Solar LLC\n",
       "7018                     G&S Wantage Solar LLC\n",
       "7019                       Engelhard Solar LLC\n",
       "7021                  Lakewood Seven Solar LLC\n",
       "7022                     4 Applegate Solar LLC\n",
       "7023                    12 Applegate Solar LLC\n",
       "7081                                  Cranbury\n",
       "7156                          Parlin Solar LLC\n",
       "7190                        L&D Landfill Solar\n",
       "7208                                   Harmony\n",
       "7209                                   Hanover\n",
       "7210    CentraState Medical Center PV Facility\n",
       "7211           Imclone Solar Electric Facility\n",
       "7288                    Wilzig Associates, LLC\n",
       "7324    Bayonne MUA- Leitner-Poma Wind Turbine\n",
       "7327                             IBM Southbury\n",
       "7360                           Munich Re Plaza\n",
       "7430        Clarkstown Landfill Solar Facility\n",
       "7451                UI RCP New Haven Fuel Cell\n",
       "7460                 UI RCP Bridgeport Seaside\n",
       "7497     Jackson Board of Education-Liberty HS\n",
       "7552                            Sharon Station\n",
       "7565                               East Amwell\n",
       "7574                       NHA at Mansfield NJ\n",
       "7597                                 Calverton\n",
       "7607                          Jefferson Avenue\n",
       "7608                           Westside Avenue\n",
       "7609                                 Hartz Way\n",
       "Name: Plant_Name, Length: 290, dtype: object"
      ]
     },
     "execution_count": 20,
     "metadata": {},
     "output_type": "execute_result"
    }
   ],
   "source": [
    "powerplants[powerplants.within(nycgeo_buffer.iloc[0])]['Plant_Name']"
   ]
  },
  {
   "cell_type": "markdown",
   "metadata": {},
   "source": [
    "Map all of the power plants in New York, New Jersey, Pennsylvania and Connecticut. Have a nice bottom layer of those 4 states."
   ]
  },
  {
   "cell_type": "code",
   "execution_count": 21,
   "metadata": {
    "collapsed": true
   },
   "outputs": [],
   "source": [
    "states_NE = states[states['NAME'].isin(\n",
    "            ['New York','New Jersey','Pennsylvania','Connecticut'])]"
   ]
  },
  {
   "cell_type": "code",
   "execution_count": 22,
   "metadata": {
    "collapsed": true
   },
   "outputs": [],
   "source": [
    "states_NE_polygon = states_NE.unary_union\n",
    "powerplants_NE = powerplants[powerplants.within(states_NE_polygon)]"
   ]
  },
  {
   "cell_type": "code",
   "execution_count": 23,
   "metadata": {},
   "outputs": [
    {
     "data": {
      "text/plain": [
       "(-80.956535849999995, -71.35034915, 38.624152450000004, 45.320216549999998)"
      ]
     },
     "execution_count": 23,
     "metadata": {},
     "output_type": "execute_result"
    },
    {
     "data": {
      "image/png": "[encoded data removed]",
      "text/plain": [
       "<matplotlib.figure.Figure at 0x10aff54a8>"
      ]
     },
     "metadata": {},
     "output_type": "display_data"
    }
   ],
   "source": [
    "ax = states_NE.plot(linewidth= 0.25, \n",
    "                      color='lightgrey', edgecolor = 'white')\n",
    "powerplants_NE.plot(color='red', ax=ax)\n",
    "ax.axis('off')"
   ]
  },
  {
   "cell_type": "markdown",
   "metadata": {},
   "source": [
    "What is the most popular power source by state?"
   ]
  },
  {
   "cell_type": "code",
   "execution_count": 24,
   "metadata": {
    "collapsed": true
   },
   "outputs": [],
   "source": [
    "powerplants['states'] = powerplants.apply(lambda row: states[states.contains(row.geometry)]['NAME'].sum(), axis=1)"
   ]
  },
  {
   "cell_type": "code",
   "execution_count": 25,
   "metadata": {},
   "outputs": [
    {
     "data": {
      "text/plain": [
       "states                PrimSource   \n",
       "Texas                 natural gas      67719.2\n",
       "California            natural gas      42443.5\n",
       "0                     natural gas      38741.1\n",
       "Washington            hydroelectric    26652.6\n",
       "New York              natural gas      21184.4\n",
       "Louisiana             natural gas      18826.2\n",
       "Indiana               coal             16596.1\n",
       "Georgia               natural gas      16580.1\n",
       "Ohio                  coal             15322.0\n",
       "Illinois              coal             14902.8\n",
       "Pennsylvania          natural gas      14757.7\n",
       "Oklahoma              natural gas      13766.7\n",
       "Kentucky              coal             13422.7\n",
       "Arizona               natural gas      13412.7\n",
       "West Virginia         coal             12969.0\n",
       "Missouri              coal             12572.9\n",
       "New Jersey            natural gas      12096.6\n",
       "Virginia              natural gas      11860.8\n",
       "Mississippi           natural gas      11593.4\n",
       "Alabama               natural gas      11386.0\n",
       "North Carolina        coal             11130.4\n",
       "Michigan              natural gas      11031.6\n",
       "Tennessee             coal              7656.1\n",
       "Wisconsin             coal              7386.7\n",
       "Nevada                natural gas       7256.3\n",
       "Colorado              natural gas       6628.2\n",
       "South Carolina        nuclear           6556.2\n",
       "Wyoming               coal              6444.1\n",
       "Massachusetts         natural gas       6292.5\n",
       "Iowa                  wind              6180.6\n",
       "Arkansas              natural gas       6145.2\n",
       "Minnesota             natural gas       5249.0\n",
       "Maryland              coal              5124.9\n",
       "Utah                  coal              4791.7\n",
       "Kansas                coal              4763.2\n",
       "North Dakota          coal              4305.5\n",
       "Nebraska              coal              4053.0\n",
       "Oregon                natural gas       3787.8\n",
       "New Mexico            coal              3471.0\n",
       "Idaho                 hydroelectric     3152.7\n",
       "Connecticut           natural gas       3096.2\n",
       "Montana               hydroelectric     2757.6\n",
       "Delaware              natural gas       2585.4\n",
       "Rhode Island          natural gas       1772.1\n",
       "Maine                 natural gas       1676.6\n",
       "South Dakota          hydroelectric     1598.0\n",
       "New Hampshire         nuclear           1247.9\n",
       "Vermont               hydroelectric      236.7\n",
       "District of Columbia  biomass             12.0\n",
       "Name: Total_MW, dtype: float64"
      ]
     },
     "execution_count": 25,
     "metadata": {},
     "output_type": "execute_result"
    }
   ],
   "source": [
    "#using total Megawatt as total production\n",
    "powerplants.groupby(['states','PrimSource'])['Total_MW'].sum().sort_values(ascending=False).groupby(level=0).head(1)"
   ]
  },
  {
   "cell_type": "markdown",
   "metadata": {},
   "source": [
    "Get the average (or highest/worst) PM2.5 within XXX miles of each power plant (you pick the distance). Is coal dirtier than other kinds of plants?<br>\n",
    "Taking highest PM2.5 in a distance of 10 km."
   ]
  },
  {
   "cell_type": "code",
   "execution_count": 26,
   "metadata": {},
   "outputs": [],
   "source": [
    "powerplants_proj = powerplants[['Plant_Code','Plant_Name','PrimSource','geometry']]\n",
    "powerplants_proj.crs = {'init':'epsg:4326'}\n",
    "powerplants_proj = powerplants_proj.to_crs(epsg=5071)"
   ]
  },
  {
   "cell_type": "code",
   "execution_count": 27,
   "metadata": {
    "collapsed": true
   },
   "outputs": [],
   "source": [
    "powerplants_proj_buffer = powerplants_proj.buffer(10000)"
   ]
  },
  {
   "cell_type": "code",
   "execution_count": 28,
   "metadata": {
    "collapsed": true
   },
   "outputs": [],
   "source": [
    "pm25_proj = pm25\n",
    "pm25_proj.crs = {'init':'epsg:4326'}\n",
    "pm25_proj = pm25_proj.to_crs(epsg=5071)"
   ]
  },
  {
   "cell_type": "code",
   "execution_count": 29,
   "metadata": {
    "collapsed": true
   },
   "outputs": [],
   "source": [
    "powerplants_proj['PM25'] = powerplants_proj_buffer.apply(\n",
    "    lambda row: pm25_proj[pm25_proj.within(row)]['1st Max Value'].max())"
   ]
  },
  {
   "cell_type": "code",
   "execution_count": 30,
   "metadata": {},
   "outputs": [
    {
     "data": {
      "text/plain": [
       "PrimSource\n",
       "geothermal        30.7\n",
       "nuclear           23.6\n",
       "solar             21.4\n",
       "coal              21.2\n",
       "other             21.0\n",
       "petroleum         20.6\n",
       "natural gas       20.4\n",
       "biomass           20.3\n",
       "hydroelectric     19.4\n",
       "wind              17.9\n",
       "pumped storage     NaN\n",
       "Name: PM25, dtype: float64"
      ]
     },
     "execution_count": 30,
     "metadata": {},
     "output_type": "execute_result"
    }
   ],
   "source": [
    "powerplants_proj.groupby('PrimSource')['PM25'].median().sort_values(ascending=False)"
   ]
  },
  {
   "cell_type": "code",
   "execution_count": 31,
   "metadata": {
    "collapsed": true
   },
   "outputs": [],
   "source": [
    "#It doesn't seem that coal power plants increase the PM2.5 values (median of maximum PM2.5 values in a 10km radius)"
   ]
  },
  {
   "cell_type": "markdown",
   "metadata": {},
   "source": [
    "Make a map of the power plants within 150 miles of New York City. I want it centered on New York City, zoomed in a good amount."
   ]
  },
  {
   "cell_type": "code",
   "execution_count": 32,
   "metadata": {
    "collapsed": true
   },
   "outputs": [],
   "source": [
    "#150 miles are 240 km\n",
    "nycgeo_buffer = nyc_geo_proj.buffer(240000)\n",
    "powerplants_proj['close_NYC'] = powerplants_proj_buffer.apply(\n",
    "    lambda row: nycgeo_buffer.contains(row))"
   ]
  },
  {
   "cell_type": "code",
   "execution_count": 33,
   "metadata": {},
   "outputs": [
    {
     "data": {
      "text/plain": [
       "(1400000.0, 2200000.0, 1800000.0, 2600000.0)"
      ]
     },
     "execution_count": 33,
     "metadata": {},
     "output_type": "execute_result"
    },
    {
     "data": {
      "image/png": "[encoded data removed]",
      "text/plain": [
       "<matplotlib.figure.Figure at 0x10ac01358>"
      ]
     },
     "metadata": {},
     "output_type": "display_data"
    }
   ],
   "source": [
    "ax = states_proj.plot(linewidth= 0.25, color='lightgrey', edgecolor = 'white')\n",
    "ax.set_xlim(1400000,2200000)\n",
    "ax.set_ylim(1800000,2600000)\n",
    "nycgeo_buffer.plot(alpha=0.4, color='red',ax=ax, edgecolor = 'none')\n",
    "powerplants_proj[powerplants_proj['close_NYC'] == True].plot(alpha=0.3, color='black',ax=ax)\n",
    "ax.axis('off')"
   ]
  },
  {
   "cell_type": "markdown",
   "metadata": {},
   "source": [
    "Are places with below-average air quality closer to power plants?"
   ]
  },
  {
   "cell_type": "code",
   "execution_count": 34,
   "metadata": {
    "collapsed": true
   },
   "outputs": [],
   "source": [
    "powerplants_proj_union = powerplants_proj.unary_union"
   ]
  },
  {
   "cell_type": "code",
   "execution_count": 35,
   "metadata": {
    "collapsed": true
   },
   "outputs": [],
   "source": [
    "#Calculate distance from power plant\n",
    "\n",
    "pm25_proj['distance'] = pm25_proj.distance(powerplants_proj_union)"
   ]
  },
  {
   "cell_type": "code",
   "execution_count": 36,
   "metadata": {},
   "outputs": [
    {
     "data": {
      "text/plain": [
       "<matplotlib.axes._subplots.AxesSubplot at 0x10a6ca710>"
      ]
     },
     "execution_count": 36,
     "metadata": {},
     "output_type": "execute_result"
    },
    {
     "data": {
      "image/png": "[encoded data removed]",
      "text/plain": [
       "<matplotlib.figure.Figure at 0x10ac01f98>"
      ]
     },
     "metadata": {},
     "output_type": "display_data"
    }
   ],
   "source": [
    "pm25_chart_df = pd.DataFrame(pm25_proj)\n",
    "pm25_chart_df.plot(kind='scatter',y='1st Max Value', x='distance')"
   ]
  },
  {
   "cell_type": "code",
   "execution_count": 37,
   "metadata": {
    "collapsed": true
   },
   "outputs": [],
   "source": [
    "#Yes! The highest pollution can be seen near a power plant."
   ]
  }
 ],
 "metadata": {
  "kernelspec": {
   "display_name": "Python 3",
   "language": "python",
   "name": "python3"
  },
  "language_info": {
   "codemirror_mode": {
    "name": "ipython",
    "version": 3
   },
   "file_extension": ".py",
   "mimetype": "text/x-python",
   "name": "python",
   "nbconvert_exporter": "python",
   "pygments_lexer": "ipython3",
   "version": "3.6.1"
  }
 },
 "nbformat": 4,
 "nbformat_minor": 2
}
